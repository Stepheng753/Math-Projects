{
 "cells": [
  {
   "cell_type": "markdown",
   "id": "f72961f3",
   "metadata": {},
   "source": [
    "# Inner Rectangle\n",
    "#### by Stephen Giang"
   ]
  },
  {
   "cell_type": "markdown",
   "id": "7c2dd5dd",
   "metadata": {},
   "source": [
    "#### Let there be a $n \\times m$ rectangle, $R$, such that $R$ consists of $n$ rows and $m$ columns.  Calculate the maximum number of squares and rectangles that are within $R$."
   ]
  },
  {
   "cell_type": "markdown",
   "id": "25365537",
   "metadata": {},
   "source": [
    "Notice the following example. We have here a $2 \\times 3$ rectangle.  It consists of $6 - (1 \\times 1)$ squares and $2 - (2 \\times 2)$ squares. Thus, we get the maximum number of squares that are inside the $2 \\times 3$ rectangle is 8."
   ]
  },
  {
   "attachments": {
    "2by3-2.png": {
     "image/png": "[encoded data removed]"
    }
   },
   "cell_type": "markdown",
   "id": "6d4d6fef",
   "metadata": {},
   "source": [
    "![2by3-2.png](attachment:2by3-2.png)"
   ]
  },
  {
   "cell_type": "markdown",
   "id": "da6ae2aa",
   "metadata": {},
   "source": [
    "We can also see the number of rectangles that this square consists of $6 - (1 \\times 1)$ rectangles, $4 - (1 \\times 2)$ rectangles, $2 - (1 \\times 3)$ rectangles, $3 - (2 \\times 1)$ rectangles, $2 - (2 \\times 2)$ rectangles, and $1 - (2 \\times 3)$ rectangles.  Thus, we get the maximum number of rectangles that are inside the $2 \\times 3$ rectangle is $18$"
   ]
  },
  {
   "cell_type": "markdown",
   "id": "d2f3ab8f",
   "metadata": {},
   "source": [
    "## Solution and Proof"
   ]
  },
  {
   "cell_type": "markdown",
   "id": "02e10f76",
   "metadata": {},
   "source": [
    "Consider the $n \\times m$ rectangle, $R$.  We can see that there are $m - (1 \\times 1)$ rectangles per row.  We can see that there are $(m - 1) - (1 \\times 2)$ rectangles.  We can see this through the fact that for the first $(1 \\times 2)$ rectangle, the left square will be placed in the first column. The left square of the last rectangle will be placed in the second to last column.  If we had the left square of the last rectangle placed in the last column, the right square wouldn't be in $R$.  We can see that as the width of the circumscribed rectangles increases, the number of those rectangles that can be placed in each row decreases directly.  We can keep applying this logic for rectangles up to size $(1 \\times m)$.\n",
    "So thus we can see that for each row, there are $x$ amount of rectangles, where:\n",
    "$$x = \\sum_{k = 1}^{m} \\,k = 1 + 2 + \\cdots + (m - 1) + m$$"
   ]
  },
  {
   "cell_type": "markdown",
   "id": "20169464",
   "metadata": {},
   "source": [
    "Now we can see that as we expand to $n \\times m$ rectangles, there are now a total of $nx$ rectangles with height $1$.  Using the same logic as above, we can see that for the inner rectangles with height $h$, there are $(n - h + 1)x$ rectangles.  Thus we get the maximum number of rectangles that are within $R$ is $M_r$, where $M_r$ is:\n",
    "$$ M_r = \\sum_{h = 1}^{n} h \\times \\sum_{k = 1}^{m} k $$"
   ]
  },
  {
   "cell_type": "markdown",
   "id": "87277c0f",
   "metadata": {},
   "source": [
    "To calculate the maximum number of squares, $M_s$, we notice the following.  We will always have $(n \\times m) - (1 \\times 1)$ squares.  As we increase the height of the squares, the number of squares per row decreases along with the number of squares per column.  This can be explained by the explanation of calculating the number of rectangles per row, found above.  An example of this would be that we get $(n - 1)(m - 1) - (2 \\times 2)$ rectangles.  Assuming that $n \\leq m$, we get the maximum number of squares that are within $R$ is $M_s$, where $M_s$ is:\n",
    "$$M_s = \\sum_{h = 1}^{n} h(h + m - n)$$"
   ]
  },
  {
   "cell_type": "code",
   "execution_count": 8,
   "id": "6409949f",
   "metadata": {},
   "outputs": [],
   "source": [
    "class Rectangle():\n",
    "    \n",
    "    def __init__(self, n, m):\n",
    "        self.n = n\n",
    "        self.m = m\n",
    "        self.num_inner_squares = 0\n",
    "        self.num_inner_rects = 0\n",
    "        self.calc_inner_squares()\n",
    "        self.calc_inner_rects()\n",
    "        \n",
    "    def calc_inner_shapes_brute(self):\n",
    "        for i in range(1, self.n + 1):\n",
    "            for j in range(1, self.m + 1):\n",
    "                max_per_col = self.n - i + 1\n",
    "                max_per_row = self.m - j + 1\n",
    "                self.num_inner_rects = self.num_inner_rects + (max_per_col * max_per_row)\n",
    "                if i == j:\n",
    "                    self.num_inner_squares = self.num_inner_squares + (max_per_col * max_per_row)\n",
    "                    \n",
    "    def calc_inner_squares(self):\n",
    "        iteration = self.n\n",
    "        num_squares = self.m\n",
    "        while (iteration > 0):\n",
    "            self.num_inner_squares = self.num_inner_squares + (iteration * num_squares)\n",
    "            iteration = iteration - 1\n",
    "            num_squares = num_squares - 1\n",
    "                    \n",
    "    def calc_inner_rects(self):\n",
    "        num_iterations = 0\n",
    "        for i in range(1, self.n + 1):\n",
    "            num_iterations = num_iterations + i\n",
    "        for i in range(1, self.m + 1):\n",
    "            self.num_inner_rects = self.num_inner_rects + i\n",
    "        self.num_inner_rects = self.num_inner_rects * num_iterations\n",
    "        \n",
    "            \n",
    "    def get_inner_squares(self):\n",
    "        return self.num_inner_squares\n",
    "    \n",
    "    def get_inner_rects(self):\n",
    "        return self.num_inner_rects\n",
    "    \n",
    "    def get_size(self):\n",
    "        return [self.n, self.m]\n",
    "    \n",
    "    def __str__(self):\n",
    "        size_arr = self.get_size()\n",
    "        size = \"Size: \" + str(size_arr[0]) + \" × \" + str(size_arr[1])\n",
    "        innerSquares = \"Inner Squares: \" + str(self.get_inner_squares())\n",
    "        innerRects = \"Inner Rectangles: \" + str(self.get_inner_rects())\n",
    "        return size + \"\\n\" + innerSquares + \"\\n\" + innerRects\n",
    "    "
   ]
  },
  {
   "cell_type": "code",
   "execution_count": 9,
   "id": "a9010b5a",
   "metadata": {},
   "outputs": [
    {
     "name": "stdout",
     "output_type": "stream",
     "text": [
      "Size: 2 × 3\n",
      "Inner Squares: 8\n",
      "Inner Rectangles: 18\n"
     ]
    }
   ],
   "source": [
    "r = Rectangle(2,3)\n",
    "print(r)"
   ]
  },
  {
   "cell_type": "markdown",
   "id": "93a8e52d",
   "metadata": {},
   "source": [
    "# Inner Squares"
   ]
  },
  {
   "cell_type": "markdown",
   "id": "db15bfd8",
   "metadata": {},
   "source": [
    "#### Let there be a $n \\times n$ square, $S$, such that $S$ consists of $n$ rows and $n$ columns.  Calculate the maximum number of squares and rectangles that are within $S$."
   ]
  },
  {
   "cell_type": "markdown",
   "id": "6f3e4d70",
   "metadata": {},
   "source": [
    "Notice the following example. We have here a $3 \\times 3$ square.  It consists of $9 - (1 \\times 1)$ squares, $4 - (2 \\times 2)$ squares, and $1 - (3 \\times 3)$ square. Thus, we get the maximum number of squares that are inside the $3 \\times 3$ square is 14."
   ]
  },
  {
   "attachments": {
    "3by3.png": {
     "image/png": "[encoded data removed]"
    }
   },
   "cell_type": "markdown",
   "id": "f46ce9c1",
   "metadata": {},
   "source": [
    "![3by3.png](attachment:3by3.png)"
   ]
  },
  {
   "cell_type": "markdown",
   "id": "d27450de",
   "metadata": {},
   "source": [
    "We can also see the number of rectangles that this square consists of: $9 - (1 \\times 1)$ rectangles, $6 - (1 \\times 2)$ rectangles, $3 - (1 \\times 3)$ rectangles,  $6 - (2 \\times 1)$ rectangles, $4 - (2 \\times 2)$ rectangles, $2 - (2 \\times 3)$ rectangles, $3 - (3 \\times 1)$ rectangles, $2 - (3 \\times 2)$ rectangles, $1 - (3 \\times 3)$ rectangles.  Thus we get the maximum number of rectangles that are inside the $3 \\times 3$ square is 36."
   ]
  },
  {
   "cell_type": "markdown",
   "id": "ae07c8d3",
   "metadata": {},
   "source": [
    "## Solution and Proof"
   ]
  },
  {
   "cell_type": "markdown",
   "id": "cabeb998",
   "metadata": {},
   "source": [
    "Expanding on the solutions from the inner rectangles, we can see that a square is simply a rectangle with $n = m$.  Thus we get the following solutions:\n",
    "$$M_r = \\left(\\sum_{h = 1}^{n} h\\right)^2 \\hspace{5em} M_s = \\sum_{h = 1}^{n} h^2$$"
   ]
  },
  {
   "cell_type": "code",
   "execution_count": 10,
   "id": "1b6525c4",
   "metadata": {},
   "outputs": [],
   "source": [
    "class Square(Rectangle):\n",
    "    \n",
    "    def __init__(self, n):\n",
    "        super().__init__(n, n)\n",
    "        \n",
    "    def calc_inner_squares(self):\n",
    "        for i in range(1, self.n + 1):\n",
    "            self.num_inner_squares = self.num_inner_squares + (i**2)\n",
    "    \n",
    "    def calc_inner_rects(self):\n",
    "        for i in range(1, self.n + 1):\n",
    "            self.num_inner_rects = self.num_inner_rects + i\n",
    "        self.num_inner_rects = self.num_inner_rects**2\n",
    "            "
   ]
  },
  {
   "cell_type": "code",
   "execution_count": 11,
   "id": "4310c94e",
   "metadata": {},
   "outputs": [
    {
     "name": "stdout",
     "output_type": "stream",
     "text": [
      "Size: 3 × 3\n",
      "Inner Squares: 14\n",
      "Inner Rectangles: 36\n"
     ]
    }
   ],
   "source": [
    "s = Square(3)\n",
    "print(s)"
   ]
  }
 ],
 "metadata": {
  "kernelspec": {
   "display_name": "Python 3 (ipykernel)",
   "language": "python",
   "name": "python3"
  },
  "language_info": {
   "codemirror_mode": {
    "name": "ipython",
    "version": 3
   },
   "file_extension": ".py",
   "mimetype": "text/x-python",
   "name": "python",
   "nbconvert_exporter": "python",
   "pygments_lexer": "ipython3",
   "version": "3.9.7"
  }
 },
 "nbformat": 4,
 "nbformat_minor": 5
}
