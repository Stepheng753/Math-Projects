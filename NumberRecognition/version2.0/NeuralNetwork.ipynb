{
 "cells": [
  {
   "cell_type": "markdown",
   "metadata": {},
   "source": [
    "# Neural Networks\n",
    "\n",
    "This notebook shall be based off the following text: \\\n",
    "https://www.3blue1brown.com/topics/neural-networks"
   ]
  },
  {
   "cell_type": "code",
   "execution_count": 1,
   "metadata": {},
   "outputs": [
    {
     "name": "stderr",
     "output_type": "stream",
     "text": [
      "2024-05-09 23:49:58.383140: I external/local_tsl/tsl/cuda/cudart_stub.cc:32] Could not find cuda drivers on your machine, GPU will not be used.\n",
      "2024-05-09 23:49:58.386205: I external/local_tsl/tsl/cuda/cudart_stub.cc:32] Could not find cuda drivers on your machine, GPU will not be used.\n",
      "2024-05-09 23:49:58.426346: I tensorflow/core/platform/cpu_feature_guard.cc:210] This TensorFlow binary is optimized to use available CPU instructions in performance-critical operations.\n",
      "To enable the following instructions: AVX2 FMA, in other operations, rebuild TensorFlow with the appropriate compiler flags.\n",
      "2024-05-09 23:49:59.343803: W tensorflow/compiler/tf2tensorrt/utils/py_utils.cc:38] TF-TRT Warning: Could not find TensorRT\n"
     ]
    }
   ],
   "source": [
    "import csv\n",
    "import matplotlib.pyplot as plt\n",
    "import numpy as np\n",
    "from keras.datasets import mnist # type: ignore"
   ]
  },
  {
   "cell_type": "markdown",
   "metadata": {},
   "source": [
    "---\n",
    "\n",
    "---\n",
    "\n",
    "#### Basic Example to Start Forward Propogation\n",
    "\n",
    "To Begin the Neural Network, we need 4 column vectors (layers):\n",
    "\n",
    "Input Layer \n",
    "&nbsp;&nbsp;&nbsp;&nbsp;&nbsp;&nbsp;$(A^{(0)})$ : $784 \\times 1$ \n",
    "\n",
    "Hidden Layer 0 \n",
    "&nbsp;$(A^{(1)})$ : $16 \\times 1$ \n",
    "\n",
    "Hidden Layer 1 \n",
    "&nbsp;$(A^{(2)})$ : $16 \\times 1$ \n",
    "\n",
    "Output Layer \n",
    "&nbsp;&nbsp;&nbsp;$(A^{(3)})$ : $10 \\times 1$ \n",
    "\n",
    "The Input Layer will be randomized for now, but will actually be taken from the MNIST training set"
   ]
  },
  {
   "cell_type": "code",
   "execution_count": 2,
   "metadata": {},
   "outputs": [],
   "source": [
    "input_layer   = np.random.randn(784, 1)\n",
    "hidden_layer0 = np.random.randn(16, 1)\n",
    "hidden_layer1 = np.random.randn(16, 1)\n",
    "output_layer  = np.random.randn(10, 1)"
   ]
  },
  {
   "cell_type": "markdown",
   "metadata": {},
   "source": [
    "Now, we need 3 weight vectors\n",
    "\n",
    "Weight 0 ($W^{(0)}$) : Height(HiddenLayer0) $\\times$ Height(InputLayer)\n",
    "\n",
    "Weight 1 ($W^{(1)}$) : Height(HiddenLayer1) $\\times$ Height(HiddenLayer0)\n",
    "\n",
    "Weight 2 ($W^{(2)}$) : Height(OutputLayer) $\\times$ Height(HiddenLayer1)\n"
   ]
  },
  {
   "cell_type": "code",
   "execution_count": 3,
   "metadata": {},
   "outputs": [],
   "source": [
    "weight0 = np.random.randn(len(hidden_layer0), len(input_layer))\n",
    "weight1 = np.random.randn(len(hidden_layer1), len(hidden_layer0))\n",
    "weight2 = np.random.randn(len(output_layer), len(hidden_layer1))"
   ]
  },
  {
   "cell_type": "markdown",
   "metadata": {},
   "source": [
    "We also need 3 column vectors (biases)\n",
    "\n",
    "Bias 0 ($B^{(0)}$)  : Height(HiddenLayer0) $\\times$ 1\n",
    "\n",
    "Bias 1 ($B^{(1)}$)  : Height(HiddenLayer1) $\\times$ 1\n",
    "\n",
    "Bias 2 ($B^{(2)}$)  : Height(OutputLayer) $\\times$ 1"
   ]
  },
  {
   "cell_type": "code",
   "execution_count": 4,
   "metadata": {},
   "outputs": [],
   "source": [
    "bias0 = np.random.randn(len(hidden_layer0), 1)\n",
    "bias1 = np.random.randn(len(hidden_layer1), 1)\n",
    "bias2 = np.random.randn(len(output_layer), 1)"
   ]
  },
  {
   "cell_type": "markdown",
   "metadata": {},
   "source": [
    "We now also need a normalization function:\n",
    "\n",
    "$$\\sigma(x) = \\frac{1}{1 + e^{-x}}$$"
   ]
  },
  {
   "cell_type": "code",
   "execution_count": 5,
   "metadata": {},
   "outputs": [],
   "source": [
    "def sigmoid(x):\n",
    "    return 1 / (1 + np.exp(-x))"
   ]
  },
  {
   "cell_type": "markdown",
   "metadata": {},
   "source": [
    "Now we can calculate the actual values of the hidden layers and output layer given the input layer, weights, and biases\n",
    "\n",
    "Notice the example where we use the InputLayer, Weight0, Bias0\n",
    "\n",
    "$$\n",
    "\\begin{align*}\n",
    "A^{(1)} = \\sigma(W^{(0)} \\times A^{(0)} + B^{(0)}) &= \n",
    "\\sigma\\left(\n",
    "\\begin{bmatrix}\n",
    "    w_{0,0}^{(0)}  & w_{0,1}^{(0)}  & \\cdots & w_{0, 784}^{(0)}  \\\\\n",
    "    w_{1,0}^{(0)}  & w_{1,1}^{(0)}  & \\cdots & w_{1, 784}^{(0)}  \\\\\n",
    "    \\vdots         & \\vdots         & \\vdots & \\vdots     \\\\ \n",
    "    w_{15,0}^{(0)} & w_{15,1}^{(0)} & \\cdots & w_{15, 784}^{(0)}\n",
    "\\end{bmatrix}\n",
    "\\begin{bmatrix}\n",
    "    a_0^{(0)}   \\\\\n",
    "    a_1^{(0)}   \\\\\n",
    "    \\vdots \\\\\n",
    "    a_{784}^{(0)}\n",
    "\\end{bmatrix}\n",
    "+\n",
    "\\begin{bmatrix}\n",
    "    b_0^{(0)}    \\\\\n",
    "    b_1^{(0)}    \\\\\n",
    "    \\vdots \\\\\n",
    "    b_{15}^{(0)}\n",
    "\\end{bmatrix}\n",
    "\\right) \\\\\n",
    "&= \\begin{bmatrix}\n",
    "    \\sigma(w_{0,0}^{(0)}a_0^{(0)} + w_{0,15}^{(0)}a_1^{(0)} + \\cdots + w_{0, 784}^{(0)}a_{784}^{(0)} + b_0^{(0)}) \\\\\n",
    "    \\sigma(w_{1,0}^{(0)}a_0^{(0)} + w_{1,1}^{(0)}a_1^{(0)} + \\cdots + w_{1, 784}^{(0)}a_{784}^{(0)} + b_1^{(0)}) \\\\\n",
    "    \\vdots \\\\\n",
    "    \\sigma(w_{15,0}^{(0)}a_0^{(0)} + w_{15,1}^{(0)}a_1^{(0)} + \\cdots + w_{15, 784}^{(0)}a_{784}^{(0)} + b_{15}^{(0)}) \\\\\n",
    "\\end{bmatrix}\n",
    "\\end{align*}\n",
    "$$\n",
    "\n"
   ]
  },
  {
   "cell_type": "code",
   "execution_count": 6,
   "metadata": {},
   "outputs": [],
   "source": [
    "def calcNextLayer(weight, layer, bias):\n",
    "    return sigmoid(np.matmul(weight, layer) + bias)"
   ]
  },
  {
   "cell_type": "code",
   "execution_count": 7,
   "metadata": {},
   "outputs": [
    {
     "name": "stdout",
     "output_type": "stream",
     "text": [
      "[[3.83570825e-02 9.99999646e-01 1.00000000e+00 9.99994812e-01\n",
      "  1.00000000e+00 1.88803334e-15 9.99999916e-01 4.89952560e-01\n",
      "  6.48484173e-19 1.00000000e+00 1.00000000e+00 8.29118034e-11\n",
      "  3.07131390e-16 1.00000000e+00 1.00000000e+00 9.80103460e-01]]\n",
      "[[4.94558071e-02 9.96971276e-01 9.94882262e-01 9.95889865e-01\n",
      "  1.31709027e-02 2.19295117e-01 5.20700554e-02 9.99654280e-01\n",
      "  4.42561952e-01 6.43346575e-01 1.81616050e-01 3.21769063e-01\n",
      "  7.19214165e-01 9.82367345e-01 2.03719562e-04 5.57264921e-02]]\n",
      "[[0.76175113 0.36470442 0.71813024 0.10302062 0.03342142 0.0225406\n",
      "  0.41032814 0.74343746 0.98685149 0.88002526]]\n"
     ]
    }
   ],
   "source": [
    "hidden_layer0 = calcNextLayer(weight0, input_layer, bias0)\n",
    "hidden_layer1 = calcNextLayer(weight1, hidden_layer1, bias1)\n",
    "output_layer = calcNextLayer(weight2, hidden_layer1, bias2)\n",
    "print(hidden_layer0.T)\n",
    "print(hidden_layer1.T)\n",
    "print(output_layer.T)"
   ]
  },
  {
   "cell_type": "markdown",
   "metadata": {},
   "source": [
    "---\n",
    "\n",
    "---\n",
    "\n",
    "#### Forward Propogation\n",
    "\n",
    "Now we can start to hold all layers in the array $A$, all the weights in $W$, and all the biases in $B$"
   ]
  },
  {
   "cell_type": "code",
   "execution_count": 8,
   "metadata": {},
   "outputs": [],
   "source": [
    "# Let heights be an array that holds the heights of the input_layer, all hidden_layers, and output_layer\n",
    "\n",
    "def generate_A_W_B(heights: list):\n",
    "    A = []\n",
    "    for height in heights:\n",
    "        A.append(np.random.randn(height, 1))\n",
    "\n",
    "    W = []\n",
    "    for i in range(1, len(heights)):\n",
    "        W.append(np.random.randn(heights[i], heights[i - 1]))\n",
    "\n",
    "    B = []\n",
    "    for i in range(1, len(heights)):\n",
    "        B.append(np.random.randn(heights[i], 1))\n",
    "\n",
    "    return A, W, B"
   ]
  },
  {
   "cell_type": "markdown",
   "metadata": {},
   "source": [
    "Now we can find the actual values of the hidden_layers and output_layers, using the array version of $A$, $W$, and $B$"
   ]
  },
  {
   "cell_type": "code",
   "execution_count": 9,
   "metadata": {},
   "outputs": [],
   "source": [
    "def forward_propogation(A, W, B):\n",
    "    for i in range(1, len(A)):\n",
    "        A[i] = calcNextLayer(W[i - 1], A[i - 1], B[i - 1])\n",
    "    return A"
   ]
  },
  {
   "cell_type": "code",
   "execution_count": 10,
   "metadata": {},
   "outputs": [
    {
     "name": "stdout",
     "output_type": "stream",
     "text": [
      "[[8.18674178e-10 9.99999795e-01 9.99999677e-01 7.68514973e-08\n",
      "  9.99999758e-01 7.06545311e-24 1.00000000e+00 9.99742590e-01\n",
      "  9.84145502e-01 9.99830447e-01 9.60857653e-03 1.00000000e+00\n",
      "  9.17815523e-10 1.37373957e-06 1.83526740e-01 1.00000000e+00]]\n",
      "[[0.02600493 0.82594384 0.99014957 0.80255838 0.12022421 0.79553801\n",
      "  0.88750339 0.74258409 0.69325091 0.57242991 0.18616159 0.0476971\n",
      "  0.21523186 0.75162949 0.135244   0.07107132]]\n",
      "[[0.94714232 0.66779904 0.52593028 0.8820985  0.02062268 0.26316127\n",
      "  0.07106244 0.99381022 0.38158664 0.84296775]]\n"
     ]
    }
   ],
   "source": [
    "heights = [(28 * 28), 16, 16, 10]\n",
    "A, W, B = generate_A_W_B(heights)\n",
    "A = forward_propogation(A, W, B)\n",
    "print(A[1].T)\n",
    "print(A[2].T)\n",
    "print(A[3].T)\n"
   ]
  },
  {
   "cell_type": "markdown",
   "metadata": {},
   "source": [
    "---\n",
    "\n",
    "---\n",
    "\n",
    "#### MNIST Forward Propogation\n",
    "\n",
    "We will now test the Forward Propogation using the MNist Training Set"
   ]
  },
  {
   "cell_type": "code",
   "execution_count": 11,
   "metadata": {},
   "outputs": [],
   "source": [
    "def setInputLayer(A, image):\n",
    "    A[0] = image.reshape(-1, 1)\n",
    "    return A"
   ]
  },
  {
   "cell_type": "code",
   "execution_count": 12,
   "metadata": {},
   "outputs": [],
   "source": [
    "def convertAnswer(answer: int):\n",
    "    y = np.zeros((10, 1))\n",
    "    y[answer] = 1\n",
    "    return y"
   ]
  },
  {
   "cell_type": "code",
   "execution_count": 13,
   "metadata": {},
   "outputs": [],
   "source": [
    "(X_train, y_train), (X_test, y_test) = mnist.load_data()"
   ]
  },
  {
   "cell_type": "code",
   "execution_count": 14,
   "metadata": {},
   "outputs": [
    {
     "name": "stdout",
     "output_type": "stream",
     "text": [
      "[[6.16593480e-279 0.00000000e+000 1.35670091e-245 0.00000000e+000\n",
      "  1.00000000e+000 1.00000000e+000 1.00000000e+000 1.00000000e+000\n",
      "  1.00000000e+000 0.00000000e+000 1.00000000e+000 2.11656875e-228\n",
      "  1.00000000e+000 1.00000000e+000 1.00000000e+000 1.00000000e+000]]\n",
      "[[2.86506095e-01 2.70508148e-01 8.49495951e-01 1.71160234e-01\n",
      "  3.38567050e-01 8.67720340e-01 9.66280101e-01 1.33704953e-01\n",
      "  3.13371627e-01 7.95272806e-01 9.97695154e-01 7.64922382e-02\n",
      "  1.88361218e-02 3.05432403e-01 9.75223019e-01 5.84270178e-04]]\n",
      "[[0.02552583 0.02302553 0.96907745 0.89847521 0.03250674 0.28918229\n",
      "  0.05499001 0.78689482 0.11787143 0.11944126]]\n"
     ]
    },
    {
     "name": "stderr",
     "output_type": "stream",
     "text": [
      "/tmp/ipykernel_1031/1253679003.py:2: RuntimeWarning: overflow encountered in exp\n",
      "  return 1 / (1 + np.exp(-x))\n"
     ]
    }
   ],
   "source": [
    "index = 5\n",
    "heights = [(28 * 28), 16, 16, 10]\n",
    "A, W, B = generate_A_W_B(heights)\n",
    "A = setInputLayer(A, X_train[index])\n",
    "A = forward_propogation(A, W, B)\n",
    "y = convertAnswer(y_train[index])\n",
    "print(A[1].T)\n",
    "print(A[2].T)\n",
    "print(A[3].T)"
   ]
  },
  {
   "cell_type": "markdown",
   "metadata": {},
   "source": [
    "---\n",
    "\n",
    "---\n",
    "\n",
    "#### Minimizing the Cost Function - Calculus\n",
    "\n",
    "<center>\n",
    "    <img src=\"https://3b1b-posts.us-east-1.linodeobjects.com/content/lessons/2017/backpropagation-calculus/index-by-j-k.png\" width=25%></img>\n",
    "</center>  "
   ]
  },
  {
   "cell_type": "markdown",
   "metadata": {},
   "source": [
    "The cost is going to be the sum of the squared differences between the output layer and the actual answer.  This will show us how we need to adjust the weights and biases.\n",
    "$$\n",
    "C = \\sum\\limits_{j = 0}^{9} (a_j^{(3)} - y_j)^2\n",
    "$$\n",
    "where $y$ is the correct_answer_vector\n",
    "\n",
    "We can notate the following.\n",
    "\n",
    "- $j$ is the index of the \"to\" layer\n",
    "- $k$ is the index of the \"from\" layer\n",
    "- $w_{j,k}$ is the weight that goes from $A_k$ to $A_j$\n",
    "- $L$ represents the index of the \"to\" layer"
   ]
  },
  {
   "cell_type": "code",
   "execution_count": 15,
   "metadata": {},
   "outputs": [],
   "source": [
    "def cost(A, y):\n",
    "    return np.sum(np.square(A[-1] - y))"
   ]
  },
  {
   "cell_type": "markdown",
   "metadata": {},
   "source": [
    "Notice the following work to find the derivative of our sigmoid function:\n",
    "\n",
    "$$\n",
    "\\sigma'(x) = \\frac{e^{-x}}{(1 + e^{-x})^2} = \\frac{1}{1 + e^{-x}}\\left(\\frac{e^{-x}}{1 + e^{-x}}\\right) = \\frac{1}{1 + e^{-x}}\\left(\\frac{1 + e^{-x}}{1 + e^{-x}} - \\frac{1}{1 + e^{-x}}\\right) = \\sigma(x)(1 - \\sigma(x))\n",
    "$$"
   ]
  },
  {
   "cell_type": "code",
   "execution_count": 16,
   "metadata": {},
   "outputs": [],
   "source": [
    "def sigmoid_prime(x):\n",
    "    return sigmoid(x) * (1 - sigmoid(x))"
   ]
  },
  {
   "cell_type": "markdown",
   "metadata": {},
   "source": [
    "---\n",
    "\n",
    "We can find the change in C in respect to w and b -> 1 layer back\n",
    "\n",
    "We can find the change in C in respect to each change in $w_{0,0}^{(2)}$ with the following:\n",
    "\n",
    "$$\n",
    "\\begin{align*}\n",
    "C &= (a_{0}^{(3)} - y_{0})^2 + \\cdots + (a_{9}^{(3)} - y_{9})^2 \\\\\n",
    "&\\qquad \\xrightarrow[\\text{}]{\\text{with}} a_{0}^{(3)} = \\sigma(w_{0,0}^{(2)}a_{0}^{(2)} + \\cdots + w_{0,15}^{(2)}a_{15}^{(2)} + b_{0}^{(2)}) \\\\\n",
    "\\frac{\\partial C}{\\partial w_{0,0}^{(2)}} &= \\frac{\\partial C}{\\partial a_{0}^{(3)}}\\frac{\\partial a_{0}^{(3)}}{\\partial w_{0,0}^{(2)}} \\\\\n",
    "&= 2(a_0^{(3)} - y_0)\\sigma'(W_0^{(2)} \\times A^{(2)} + b_0^{(2)}) a_{0}^{(2)}\n",
    "\\end{align*}\n",
    "$$\n",
    "\n",
    "Once more but for $w_{0,15}^{(2)}$:\n",
    "$$\n",
    "\\begin{align*}\n",
    "C &= (a_{0}^{(3)} - y_{0})^2 + \\cdots + (a_{9}^{(3)} - y_{9})^2 \\\\\n",
    "&\\qquad \\xrightarrow[\\text{}]{\\text{with}} a_{0}^{(3)} = \\sigma(w_{0,0}^{(2)}a_{0}^{(2)} + \\cdots + w_{0,15}^{(2)}a_{15}^{(2)} + b_{0}^{(2)}) \\\\\n",
    "\\frac{\\partial C}{\\partial w_{0,15}^{(2)}} &= \\frac{\\partial C}{\\partial a_{0}^{(3)}}\\frac{\\partial a_{0}^{(3)}}{\\partial w_{0,15}^{(2)}} \\\\\n",
    "&= 2(a_0^{(3)} - y_0)\\sigma'(W_0^{(2)} \\times A^{(2)} + b_0^{(2)}) a_{15}^{(2)}\n",
    "\\end{align*}\n",
    "$$\n",
    "\n",
    "Once more but for $w_{9,0}^{(2)}$:\n",
    "$$\n",
    "\\begin{align*}\n",
    "C &= (a_{0}^{(3)} - y_{0})^2 + \\cdots + (a_{9}^{(3)} - y_{9})^2 \\\\\n",
    "&\\qquad \\xrightarrow[\\text{}]{\\text{with}} a_{9}^{(3)} = \\sigma(w_{9,0}^{(2)}a_{0}^{(2)} + \\cdots + w_{9,15}^{(2)}a_{15}^{(2)} + b_{9}^{(2)}) \\\\\n",
    "\\frac{\\partial C}{\\partial w_{9,0}^{(2)}} &= \\frac{\\partial C}{\\partial a_{9}^{(3)}}\\frac{\\partial a_{9}^{(3)}}{\\partial w_{9,0}^{(2)}} \\\\\n",
    "&= 2(a_9^{(3)} - y_9)\\sigma'(W_9^{(2)} \\times A^{(2)} + b_9^{(2)}) a_{0}^{(2)}\n",
    "\\end{align*}\n",
    "$$"
   ]
  },
  {
   "cell_type": "markdown",
   "metadata": {},
   "source": [
    "Notice we can find the change in C in respect to each change in w and b -> 1 layer back with the following:\n",
    "$$\n",
    "\\begin{align*}\n",
    "\\frac{\\partial C}{\\partial w_{j,k}^{(2)}} &= \\frac{\\partial C}{\\partial a_{j}^{(3)}}\\frac{\\partial a_{j}^{(3)}}{\\partial w_{j,k}^{(2)}} = 2(a_j^{(3)} - y_j)\\sigma'(W_j^{(2)} \\times A^{(2)} + b_j^{(2)}) a_{k}^{(2)} \\\\\n",
    "\\frac{\\partial C}{\\partial b_{j}^{(2)}} &= \\frac{\\partial C}{\\partial a_{j}^{(3)}}\\frac{\\partial a_{j}^{(3)}}{\\partial b_{j}^{(2)}} = 2(a_j^{(3)} - y_j)\\sigma'(W_j^{(2)} \\times A^{(2)} + b_j^{(2)})\n",
    "\\end{align*}\n",
    "$$"
   ]
  },
  {
   "cell_type": "markdown",
   "metadata": {},
   "source": [
    "Notice the following for $\\frac{\\partial C}{\\partial W^{(2)}}$:\n",
    "$$\n",
    "\\begin{align*}\n",
    "\\frac{\\partial C}{\\partial W^{(2)}} &= \n",
    "\\begin{bmatrix}\n",
    "    2(a_0^{(3)} - y_0)\\sigma'(W_0^{(2)} \\times A^{(2)} + b_0^{(2)}) a_{0}^{(2)} & \\cdots & 2(a_0^{(3)} - y_0)\\sigma'(W_0^{(2)} \\times A^{(2)} + b_0^{(2)}) a_{15}^{(2)}\\\\\n",
    "    \\vdots & \\ddots & \\vdots \\\\\n",
    "    2(a_9^{(3)} - y_9)\\sigma'(W_9^{(2)} \\times A^{(2)} + b_9^{(2)}) a_{0}^{(2)} & \\cdots & 2(a_9^{(3)} - y_9)\\sigma'(W_9^{(2)} \\times A^{(2)} + b_9^{(2)}) a_{15}^{(2)}\n",
    "\\end{bmatrix} \\\\\n",
    "&= \\boldsymbol{\\left(2 (A^{(3)} - y) *\n",
    "\\sigma' (W^{(2)} \\times A^{(2)} + B^{(2)})\\right) \\times (A^{(2)})^{T}} \\\\\n",
    "&= \\bigg(\\{C\\} * \\big(\\{10 \\times 1\\} - \\{10 \\times 1\\}\\big) * \\{10 \\times 1\\}\\bigg) \\times \\{1 \\times 16\\} \\\\\n",
    "&= \\bigg(\\{C\\} * \\{10 \\times 1\\} * \\{10 \\times 1\\}\\bigg) \\times \\{1 \\times 16\\} \\\\\n",
    "&= \\{10 \\times 1\\} \\times \\{1 \\times 16\\} \\\\\n",
    "&= \\{10 \\times 16\\} \n",
    "\\end{align*}\n",
    "$$\n",
    "where $*$ represents \"element-wise multiplication\""
   ]
  },
  {
   "cell_type": "markdown",
   "metadata": {},
   "source": [
    "---\n",
    "\n",
    "Now, lets dive into going back 2 layers this time:\n",
    "\n",
    "We can find the change in C in respect to each change in $w_{0,0}^{(1)}$ with the following:\n",
    "\n",
    "$$\n",
    "\\begin{align*}\n",
    "C &= (a_{0}^{(3)} - y_{0})^2 + (a_{1}^{(3)} - y_{1})^2 + \\cdots + (a_{9}^{(3)} - y_{9})^2 \\\\\n",
    "&\\qquad \\xrightarrow[\\text{}]{\\text{with}} a_{0}^{(3)} = \\sigma(w_{0,0}^{(2)}a_{0}^{(2)} + \\cdots + w_{0,15}^{(2)}a_{15}^{(2)} + b_{0}^{(2)}) \\\\ \n",
    "&\\qquad \\xrightarrow[\\text{}]{\\text{with}} a_{1}^{(3)} = \\sigma(w_{1,0}^{(2)}a_{0}^{(2)} + \\cdots + w_{1,15}^{(2)}a_{15}^{(2)} + b_{1}^{(2)}) \\\\\n",
    "&\\qquad \\xrightarrow[\\text{}]{\\text{with}} a_{9}^{(3)} = \\sigma(w_{9,0}^{(2)}a_{0}^{(2)} + \\cdots + w_{9,15}^{(2)}a_{15}^{(2)} + b_{9}^{(2)}) \\\\\n",
    "&\\qquad\\qquad \\xrightarrow[\\text{}]{\\text{with}} a_{0}^{(2)} = \\sigma(w_{0,0}^{(1)}a_{0}^{(1)} + \\cdots + w_{0,15}^{(1)}a_{15}^{(1)} + b_{0}^{(1)}) \\\\\n",
    "\\frac{\\partial C}{\\partial w_{0,0}^{(1)}} &= \\frac{\\partial C}{\\partial a_{0}^{(3)}}\\frac{\\partial a_{0}^{(3)}}{\\partial a_{0}^{(2)}}\\frac{\\partial a_{0}^{(2)}}{\\partial w_{0,0}^{(1)}} + \\frac{\\partial C}{\\partial a_{1}^{(3)}}\\frac{\\partial a_{1}^{(3)}}{\\partial a_{0}^{(2)}}\\frac{\\partial a_{0}^{(2)}}{\\partial w_{0,0}^{(1)}} + \\cdots + \\frac{\\partial C}{\\partial a_{9}^{(3)}}\\frac{\\partial a_{9}^{(3)}}{\\partial a_{0}^{(2)}}\\frac{\\partial a_{0}^{(2)}}{\\partial w_{0,0}^{(1)}} \\\\\n",
    "&= 2(a_0^{(3)} - y_0)\\sigma'(W_0^{(2)} \\times A^{(2)} + b_0^{(2)})w_{0,0}^{(2)}\\sigma'(W_0^{(1)} \\times A^{(1)} + b_0^{(1)})a_{0}^{(1)} \\\\\n",
    "&+ 2(a_1^{(3)} - y_1)\\sigma'(W_1^{(2)} \\times A^{(2)} + b_1^{(2)})w_{1,0}^{(2)}\\sigma'(W_0^{(1)} \\times A^{(1)} + b_0^{(1)})a_{0}^{(1)} \\\\\n",
    "&\\qquad\\qquad\\qquad\\qquad\\vdots \\\\\n",
    "&+  2(a_9^{(3)} - y_9)\\sigma'(W_9^{(2)} \\times A^{(2)} + b_9^{(2)})w_{9,0}^{(2)}\\sigma'(W_0^{(1)} \\times A^{(1)} + b_0^{(1)})a_{0}^{(1)} \\\\\n",
    "&= 2\\sigma'(W_0^{(1)} \\times A^{(1)} + b_0^{(1)})a_{0}^{(1)}\\bigg(\\sum\\limits_{n = 0}^{9}(a_n^{(3)} - y_n)\\sigma'(W_n^{(2)} \\times A^{(2)} + b_n^{(2)})w_{n,0}^{(2)}\\bigg)\n",
    "\\end{align*}\n",
    "$$\n",
    "\n",
    "Once more but for $w_{0,15}^{(1)}$:\n",
    "\n",
    "$$\n",
    "\\begin{align*}\n",
    "C &= (a_{0}^{(3)} - y_{0})^2 + (a_{1}^{(3)} - y_{1})^2 + \\cdots + (a_{9}^{(3)} - y_{9})^2 \\\\\n",
    "&\\qquad \\xrightarrow[\\text{}]{\\text{with}} a_{0}^{(3)} = \\sigma(w_{0,0}^{(2)}a_{0}^{(2)} + \\cdots + w_{0,15}^{(2)}a_{15}^{(2)} + b_{0}^{(2)}) \\\\\n",
    "&\\qquad \\xrightarrow[\\text{}]{\\text{with}} a_{1}^{(3)} = \\sigma(w_{1,0}^{(2)}a_{0}^{(2)} + \\cdots + w_{1,15}^{(2)}a_{15}^{(2)} + b_{1}^{(2)}) \\\\\n",
    "&\\qquad \\xrightarrow[\\text{}]{\\text{with}} a_{9}^{(3)} = \\sigma(w_{9,0}^{(2)}a_{0}^{(2)} + \\cdots + w_{9,15}^{(2)}a_{15}^{(2)} + b_{9}^{(2)}) \\\\\n",
    "&\\qquad\\qquad \\xrightarrow[\\text{}]{\\text{with}} a_{0}^{(2)} = \\sigma(w_{0,0}^{(1)}a_{0}^{(1)} + \\cdots + w_{0,15}^{(1)}a_{15}^{(1)} + b_{0}^{(1)}) \\\\\n",
    "\\frac{\\partial C}{\\partial w_{0,15}^{(1)}} &= \\frac{\\partial C}{\\partial a_{0}^{(3)}}\\frac{\\partial a_{0}^{(3)}}{\\partial a_{0}^{(2)}}\\frac{\\partial a_{0}^{(2)}}{\\partial w_{0,15}^{(1)}} + \\frac{\\partial C}{\\partial a_{1}^{(3)}}\\frac{\\partial a_{1}^{(3)}}{\\partial a_{0}^{(2)}}\\frac{\\partial a_{0}^{(2)}}{\\partial w_{0,15}^{(1)}} + \\cdots + \\frac{\\partial C}{\\partial a_{9}^{(3)}}\\frac{\\partial a_{9}^{(3)}}{\\partial a_{0}^{(2)}}\\frac{\\partial a_{0}^{(2)}}{\\partial w_{0,15}^{(1)}} \\\\\n",
    "&= 2(a_0^{(3)} - y_0)\\sigma'(W_0^{(2)} \\times A^{(2)} + b_0^{(2)})w_{0,0}^{(2)}\\sigma'(W_0^{(1)} \\times A^{(1)} + b_0^{(1)})a_{15}^{(1)} \\\\\n",
    "&+ 2(a_1^{(3)} - y_1)\\sigma'(W_1^{(2)} \\times A^{(2)} + b_1^{(2)})w_{1,0}^{(2)}\\sigma'(W_0^{(1)} \\times A^{(1)} + b_0^{(1)})a_{15}^{(1)} \\\\\n",
    "&\\qquad\\qquad\\qquad\\qquad\\vdots \\\\\n",
    "&+  2(a_9^{(3)} - y_9)\\sigma'(W_9^{(2)} \\times A^{(2)} + b_9^{(2)})w_{9,0}^{(2)}\\sigma'(W_0^{(1)} \\times A^{(1)} + b_0^{(1)})a_{15}^{(1)} \\\\\n",
    "&= 2\\sigma'(W_0^{(1)} \\times A^{(1)} + b_0^{(1)})a_{15}^{(1)}\\bigg(\\sum\\limits_{n = 0}^{9}(a_n^{(3)} - y_n)\\sigma'(W_n^{(2)} \\times A^{(2)} + b_n^{(2)})w_{n,0}^{(2)}\\bigg)\n",
    "\\end{align*}\n",
    "$$\n",
    "\n",
    "Once more but for $w_{15,0}^{(1)}$:\n",
    "\n",
    "$$\n",
    "\\begin{align*}\n",
    "C &= (a_{0}^{(3)} - y_{0})^2 + (a_{1}^{(3)} - y_{1})^2 + \\cdots + (a_{9}^{(3)} - y_{9})^2 \\\\\n",
    "&\\qquad \\xrightarrow[\\text{}]{\\text{with}} a_{0}^{(3)} = \\sigma(w_{0,0}^{(2)}a_{0}^{(2)} + \\cdots + w_{0,15}^{(2)}a_{15}^{(2)} + b_{0}^{(2)}) \\\\\n",
    "&\\qquad \\xrightarrow[\\text{}]{\\text{with}} a_{1}^{(3)} = \\sigma(w_{1,0}^{(2)}a_{0}^{(2)} + \\cdots + w_{1,15}^{(2)}a_{15}^{(2)} + b_{1}^{(2)}) \\\\\n",
    "&\\qquad \\xrightarrow[\\text{}]{\\text{with}} a_{9}^{(3)} = \\sigma(w_{9,0}^{(2)}a_{0}^{(2)} + \\cdots + w_{9,15}^{(2)}a_{15}^{(2)} + b_{9}^{(2)}) \\\\\n",
    "&\\qquad\\qquad \\xrightarrow[\\text{}]{\\text{with}} a_{15}^{(2)} = \\sigma(w_{15,0}^{(1)}a_{0}^{(1)} + \\cdots + w_{15,15}^{(1)}a_{15}^{(1)} + b_{15}^{(1)}) \\\\\n",
    "\\frac{\\partial C}{\\partial w_{15,0}^{(1)}} &= \\frac{\\partial C}{\\partial a_{0}^{(3)}}\\frac{\\partial a_{0}^{(3)}}{\\partial a_{15}^{(2)}}\\frac{\\partial a_{15}^{(2)}}{\\partial w_{15,0}^{(1)}} + \\frac{\\partial C}{\\partial a_{1}^{(3)}}\\frac{\\partial a_{1}^{(3)}}{\\partial a_{15}^{(2)}}\\frac{\\partial a_{15}^{(2)}}{\\partial w_{15,0}^{(1)}} + \\cdots + \\frac{\\partial C}{\\partial a_{9}^{(3)}}\\frac{\\partial a_{9}^{(3)}}{\\partial a_{15}^{(2)}}\\frac{\\partial a_{15}^{(2)}}{\\partial w_{15,0}^{(1)}} \\\\\n",
    "&= 2(a_0^{(3)} - y_0)\\sigma'(W_0^{(2)} \\times A^{(2)} + b_0^{(2)})w_{0,15}^{(2)}\\sigma'(W_{15}^{(1)} \\times A^{(1)} + b_{15}^{(1)})a_{0}^{(1)} \\\\\n",
    "&+ 2(a_1^{(3)} - y_1)\\sigma'(W_1^{(2)} \\times A^{(2)} + b_1^{(2)})w_{1,15}^{(2)}\\sigma'(W_{15}^{(1)} \\times A^{(1)} + b_{15}^{(1)})a_{0}^{(1)} \\\\\n",
    "&\\qquad\\qquad\\qquad\\qquad\\vdots \\\\\n",
    "&+  2(a_9^{(3)} - y_9)\\sigma'(W_9^{(2)} \\times A^{(2)} + b_9^{(2)})w_{9,15}^{(2)}\\sigma'(W_{15}^{(1)} \\times A^{(1)} + b_{15}^{(1)})a_{0}^{(1)} \\\\\n",
    "&= 2\\sigma'(W_{15}^{(1)} \\times A^{(1)} + b_{15}^{(1)})a_{0}^{(1)}\\bigg(\\sum\\limits_{n = 0}^{9}(a_n^{(3)} - y_n)\\sigma'(W_n^{(2)} \\times A^{(2)} + b_n^{(2)})w_{n,15}^{(2)}\\bigg)\n",
    "\\end{align*}\n",
    "$$"
   ]
  },
  {
   "cell_type": "markdown",
   "metadata": {},
   "source": [
    "Notice we can find the change in C in respect to each change in w and b -> 2 layer back with the following:\n",
    "\n",
    "$$\n",
    "\\begin{align*}\n",
    "\\frac{\\partial C}{\\partial w_{j,k}^{(1)}} &= \\frac{\\partial a_{j}^{(2)}}{\\partial w_{j,k}^{(1)}} \\bigg(\\sum\\limits_{n = 0}^{9} \\frac{\\partial C}{\\partial a_{n}^{(3)}} \\frac{\\partial a_{n}^{(3)}}{\\partial a_{j}^{(2)}}\\bigg) = 2\\sigma'(W_{j}^{(1)} \\times A^{(1)} \\times b_{j}^{(1)})a_{k}^{(1)}\\left(\\sum\\limits_{n = 0}^{9} (a_{n}^{(3)} - y_{n})\\sigma'(W_{n}^{(2)} \\times A^{(2)} + b_{n}^{(2)})w_{n,j}^{(2)}\\right)\\\\ \n",
    "\\frac{\\partial C}{\\partial b_{j}^{(1)}} &= \\frac{\\partial a_{j}^{(2)}}{\\partial b_{j}^{(1)}} \\bigg(\\sum\\limits_{n = 0}^{9} \\frac{\\partial C}{\\partial a_{n}^{(3)}} \\frac{\\partial a_{n}^{(3)}}{\\partial a_{j}^{(2)}}\\bigg) = 2\\sigma'(W_{j}^{(1)} \\times A^{(1)} \\times b_{j}^{(1)})\\left(\\sum\\limits_{n = 0}^{9} (a_{n}^{(3)} - y_{n})\\sigma'(W_{n}^{(2)} \\times A^{(2)} + b_{n}^{(2)})w_{n,j}^{(2)}\\right)\n",
    "\\end{align*}\n",
    "$$"
   ]
  },
  {
   "cell_type": "markdown",
   "metadata": {},
   "source": [
    "Notice the following for $\\frac{\\partial C}{\\partial W^{(1)}}$:\n",
    "$$\n",
    "\\begin{align*}\n",
    "\\frac{\\partial C}{\\partial W^{(1)}} &= \n",
    "\\begin{bmatrix}\n",
    "    2\\sigma'(W_0^{(1)} \\times A^{(1)} + b_0^{(1)})a_{0}^{(1)}\\bigg(\\sum\\limits_{n = 0}^{9}(a_n^{(3)} - y_n)\\sigma'(W_n^{(2)} \\times A^{(2)} + b_n^{(2)})w_{n,0}^{(2)}\\bigg)  \\\\\n",
    "    \\qquad\\qquad \\cdots 2\\sigma'(W_0^{(1)} \\times A^{(1)} + b_0^{(1)})a_{15}^{(1)}\\bigg(\\sum\\limits_{n = 0}^{9}(a_n^{(3)} - y_n)\\sigma'(W_n^{(2)} \\times A^{(2)} + b_n^{(2)})w_{n,0}^{(2)}\\bigg) \\\\\n",
    "    \\vdots \\\\\n",
    "    2\\sigma'(W_{15}^{(1)} \\times A^{(1)} + b_{15}^{(1)})a_{0}^{(1)}\\bigg(\\sum\\limits_{n = 0}^{9}(a_n^{(3)} - y_n)\\sigma'(W_n^{(2)} \\times A^{(2)} + b_n^{(2)})w_{n,15}^{(2)}\\bigg) \\\\\n",
    "    \\qquad\\qquad \\cdots 2\\sigma'(W_{15}^{(1)} \\times A^{(1)} + b_{15}^{(1)})a_{15}^{(1)}\\bigg(\\sum\\limits_{n = 0}^{9}(a_n^{(3)} - y_n)\\sigma'(W_n^{(2)} \\times A^{(2)} + b_n^{(2)})w_{n,15}^{(2)}\\bigg)\n",
    "\\end{bmatrix} \\\\\n",
    "&= \\boldsymbol{\\left(2\\sigma' (W^{(1)} \\times A^{(1)} + B^{(1)}) * \n",
    "\\sum\\limits_{n = 0}^{9} (a_{n}^{(3)} - y_n) * \\sigma'(W_n^{2} \\times A^{(2)} + b_{n}^{(2)}) * (W_n^{(2)})^T\n",
    "\\right) \\times (A^{(1)})^{T}} \\\\\n",
    "&= \\bigg(\\{C\\} * \\{16 \\times 1\\} * \\{C\\} * \\{C\\} * \\{16 \\times 1\\} \\bigg)\\times \\{1 \\times 16\\} \\\\\n",
    "&= \\{16 \\times 1\\} \\times \\{1 \\times 16\\} \\\\\n",
    "&= \\{16 \\times 16\\} \n",
    "\\end{align*}\n",
    "$$\n",
    "where $*$ represents \"element-wise multiplication\""
   ]
  },
  {
   "cell_type": "markdown",
   "metadata": {},
   "source": [
    "---\n",
    "\n",
    "Now, lets dive into going back 3 layers this time:\n",
    "\n",
    "We can find the change in C in respect to each change in $w_{0,0}^{(0)}$ with the following:\n",
    "\n",
    "$$\n",
    "\\begin{align*}\n",
    "C &= (a_{0}^{(3)} - y_{0})^2 + (a_{1}^{(3)} - y_{1})^2 + \\cdots + (a_{9}^{(3)} - y_{9})^2 \\\\\n",
    "&\\qquad \\xrightarrow[\\text{}]{\\text{with}} a_{0}^{(3)} = \\sigma(w_{0,0}^{(2)}a_{0}^{(2)} + \\cdots + w_{0,15}^{(2)}a_{15}^{(2)} + b_{0}^{(2)}) \\\\ \n",
    "&\\qquad \\xrightarrow[\\text{}]{\\text{with}} a_{1}^{(3)} = \\sigma(w_{1,0}^{(2)}a_{0}^{(2)} + \\cdots + w_{1,15}^{(2)}a_{15}^{(2)} + b_{1}^{(2)}) \\\\ \n",
    "&\\qquad \\xrightarrow[\\text{}]{\\text{with}} a_{9}^{(3)} = \\sigma(w_{9,0}^{(2)}a_{0}^{(2)} + \\cdots + w_{9,15}^{(2)}a_{15}^{(2)} + b_{9}^{(2)}) \\\\ \n",
    "&\\qquad\\qquad \\xrightarrow[\\text{}]{\\text{with}} a_{0}^{(2)} = \\sigma(w_{0,0}^{(1)}a_{0}^{(1)} + \\cdots + w_{0,15}^{(1)}a_{15}^{(1)} + b_{0}^{(1)}) \\\\\n",
    "&\\qquad\\qquad \\xrightarrow[\\text{}]{\\text{with}} a_{1}^{(2)} = \\sigma(w_{1,0}^{(1)}a_{0}^{(1)} + \\cdots + w_{1,15}^{(1)}a_{15}^{(1)} + b_{1}^{(1)}) \\\\\n",
    "&\\qquad\\qquad \\xrightarrow[\\text{}]{\\text{with}} a_{15}^{(2)} = \\sigma(w_{15,0}^{(1)}a_{0}^{(1)} + \\cdots + w_{15,15}^{(1)}a_{15}^{(1)} + b_{15}^{(1)}) \\\\\n",
    "&\\qquad\\qquad\\qquad \\xrightarrow[\\text{}]{\\text{with}} a_{0}^{(1)} = \\sigma(w_{0,0}^{(0)}a_{0}^{(0)} + w_{0,1}^{(0)}a_{1}^{(0)} + \\cdots + w_{0,784}^{(0)}a_{784}^{(0)} + b_{0}^{(0)}) \\\\\n",
    "\\frac{\\partial C}{\\partial w_{0,0}^{(0)}} &= \\frac{\\partial C}{\\partial a_{0}^{(3)}}\\left(\\sum\\limits_{m = 0}^{15} \\frac{\\partial a_{0}^{(3)}}{\\partial a_{m}^{(2)}}\\frac{\\partial a_{m}^{(2)}}{\\partial a_{0}^{(1)}}\\frac{\\partial a_{0}^{(1)}}{\\partial w_{0,0}^{(0)}}\\right) + \\frac{\\partial C}{\\partial a_{1}^{(3)}}\\left(\\sum\\limits_{m = 0}^{15} \\frac{\\partial a_{1}^{(3)}}{\\partial a_{m}^{(2)}}\\frac{\\partial a_{m}^{(2)}}{\\partial a_{0}^{(1)}}\\frac{\\partial a_{0}^{(1)}}{\\partial w_{0,0}^{(0)}}\\right) + \\cdots + \\frac{\\partial C}{\\partial a_{9}^{(3)}}\\left(\\sum\\limits_{m = 0}^{15} \\frac{\\partial a_{9}^{(3)}}{\\partial a_{m}^{(2)}}\\frac{\\partial a_{m}^{(2)}}{\\partial a_{0}^{(1)}}\\frac{\\partial a_{0}^{(1)}}{\\partial w_{0,0}^{(0)}}\\right) \\\\\n",
    "&= \\sum\\limits_{n = 0}^{9} \\left(\\frac{\\partial C}{\\partial a_{n}^{(3)}}\\left(\\sum\\limits_{m = 0}^{15} \\frac{\\partial a_{n}^{(3)}}{\\partial a_{m}^{(2)}}\\frac{\\partial a_{m}^{(2)}}{\\partial a_{0}^{(1)}}\\frac{\\partial a_{0}^{(1)}}{\\partial w_{0,0}^{(0)}}\\right)\\right) \\\\\n",
    "&= \\sum\\limits_{n = 0}^{9} \\left(2(a_{n}^{(3)} - y_{n}) \\left(\\sum\\limits_{m = 0}^{15}\\left(\\sigma'(W_{n}^{(2)} \\times A^{(2)} + b_{n}^{(2)})w_{n, m}^{(2)}\\sigma'(W_{m}^{(1)} \\times A^{(1)} + b_{m}^{(1)})w_{m, 0}^{(1)}\\sigma'(W_{0}^{(0)} \\times A^{(0)} + b_{0}^{(0)})a_{0}^{(0)}\\right)\\right)\\right) \\\\\n",
    "&= 2\\sigma'(W_{0}^{(0)} \\times A^{(0)} + b_{0}^{(0)})a_{0}^{(0)} \\sum\\limits_{n = 0}^{9} \\left((a_{n}^{(3)} - y_{n}) \\left(\\sum\\limits_{m = 0}^{15}\\left(\\sigma'(W_{n}^{(2)} \\times A^{(2)} + b_{n}^{(2)})\\sigma'(W_{m}^{(1)} \\times A^{(1)} + b_{m}^{(1)})w_{n, m}^{(2)}w_{m, 0}^{(1)}\\right)\\right)\\right)\n",
    "\\end{align*}\n",
    "$$\n",
    "\n",
    "We can find the change in C in respect to each change in $w_{0,784}^{(0)}$ with the following:\n",
    "\n",
    "$$\n",
    "\\begin{align*}\n",
    "C &= (a_{0}^{(3)} - y_{0})^2 + (a_{1}^{(3)} - y_{1})^2 + \\cdots + (a_{9}^{(3)} - y_{9})^2 \\\\\n",
    "&\\qquad \\xrightarrow[\\text{}]{\\text{with}} a_{0}^{(3)} = \\sigma(w_{0,0}^{(2)}a_{0}^{(2)} + \\cdots + w_{0,15}^{(2)}a_{15}^{(2)} + b_{0}^{(2)}) \\\\ \n",
    "&\\qquad \\xrightarrow[\\text{}]{\\text{with}} a_{1}^{(3)} = \\sigma(w_{1,0}^{(2)}a_{0}^{(2)} + \\cdots + w_{1,15}^{(2)}a_{15}^{(2)} + b_{1}^{(2)}) \\\\ \n",
    "&\\qquad \\xrightarrow[\\text{}]{\\text{with}} a_{9}^{(3)} = \\sigma(w_{9,0}^{(2)}a_{0}^{(2)} + \\cdots + w_{9,15}^{(2)}a_{15}^{(2)} + b_{9}^{(2)}) \\\\ \n",
    "&\\qquad\\qquad \\xrightarrow[\\text{}]{\\text{with}} a_{0}^{(2)} = \\sigma(w_{0,0}^{(1)}a_{0}^{(1)} + \\cdots + w_{0,15}^{(1)}a_{15}^{(1)} + b_{0}^{(1)}) \\\\\n",
    "&\\qquad\\qquad \\xrightarrow[\\text{}]{\\text{with}} a_{1}^{(2)} = \\sigma(w_{1,0}^{(1)}a_{0}^{(1)} + \\cdots + w_{1,15}^{(1)}a_{15}^{(1)} + b_{1}^{(1)}) \\\\\n",
    "&\\qquad\\qquad \\xrightarrow[\\text{}]{\\text{with}} a_{15}^{(2)} = \\sigma(w_{15,0}^{(1)}a_{0}^{(1)} + \\cdots + w_{15,15}^{(1)}a_{15}^{(1)} + b_{15}^{(1)}) \\\\\n",
    "&\\qquad\\qquad\\qquad \\xrightarrow[\\text{}]{\\text{with}} a_{0}^{(1)} = \\sigma(w_{0,0}^{(0)}a_{0}^{(0)} + w_{0,1}^{(0)}a_{1}^{(0)} + \\cdots + w_{0,784}^{(0)}a_{784}^{(0)} + b_{0}^{(0)}) \\\\\n",
    "\\frac{\\partial C}{\\partial w_{0,784}^{(0)}} &= \\frac{\\partial C}{\\partial a_{0}^{(3)}}\\left(\\sum\\limits_{m = 0}^{15} \\frac{\\partial a_{0}^{(3)}}{\\partial a_{m}^{(2)}}\\frac{\\partial a_{m}^{(2)}}{\\partial a_{0}^{(1)}}\\frac{\\partial a_{0}^{(1)}}{\\partial w_{0,784}^{(0)}}\\right) + \\frac{\\partial C}{\\partial a_{1}^{(3)}}\\left(\\sum\\limits_{m = 0}^{15} \\frac{\\partial a_{1}^{(3)}}{\\partial a_{m}^{(2)}}\\frac{\\partial a_{m}^{(2)}}{\\partial a_{0}^{(1)}}\\frac{\\partial a_{0}^{(1)}}{\\partial w_{0,784}^{(0)}}\\right) + \\cdots + \\frac{\\partial C}{\\partial a_{9}^{(3)}}\\left(\\sum\\limits_{m = 0}^{15} \\frac{\\partial a_{9}^{(3)}}{\\partial a_{m}^{(2)}}\\frac{\\partial a_{m}^{(2)}}{\\partial a_{0}^{(1)}}\\frac{\\partial a_{0}^{(1)}}{\\partial w_{0,784}^{(0)}}\\right) \\\\\n",
    "&= \\sum\\limits_{n = 0}^{9} \\left(\\frac{\\partial C}{\\partial a_{n}^{(3)}}\\left(\\sum\\limits_{m = 0}^{15} \\frac{\\partial a_{n}^{(3)}}{\\partial a_{m}^{(2)}}\\frac{\\partial a_{m}^{(2)}}{\\partial a_{0}^{(1)}}\\frac{\\partial a_{0}^{(1)}}{\\partial w_{0,784}^{(0)}}\\right)\\right) \\\\\n",
    "&= \\sum\\limits_{n = 0}^{9} \\left(2(a_{n}^{(3)} - y_{n}) \\left(\\sum\\limits_{m = 0}^{15}\\left(\\sigma'(W_{n}^{(2)} \\times A^{(2)} + b_{n}^{(2)})w_{n, m}^{(2)}\\sigma'(W_{m}^{(1)} \\times A^{(1)} + b_{m}^{(1)})w_{m, 0}^{(1)}\\sigma'(W_{0}^{(0)} \\times A^{(0)} + b_{0}^{(0)})a_{784}^{(0)}\\right)\\right)\\right) \\\\\n",
    "&= 2\\sigma'(W_{0}^{(0)} \\times A^{(0)} + b_{0}^{(0)})a_{784}^{(0)} \\sum\\limits_{n = 0}^{9} \\left((a_{n}^{(3)} - y_{n}) \\left(\\sum\\limits_{m = 0}^{15}\\left(\\sigma'(W_{n}^{(2)} \\times A^{(2)} + b_{n}^{(2)})\\sigma'(W_{m}^{(1)} \\times A^{(1)} + b_{m}^{(1)})w_{n, m}^{(2)}w_{m, 0}^{(1)}\\right)\\right)\\right)\n",
    "\\end{align*}\n",
    "$$\n",
    "\n",
    "We can find the change in C in respect to each change in $w_{15,0}^{(0)}$ with the following:\n",
    "\n",
    "$$\n",
    "\\begin{align*}\n",
    "C &= (a_{0}^{(3)} - y_{0})^2 + (a_{1}^{(3)} - y_{1})^2 + \\cdots + (a_{9}^{(3)} - y_{9})^2 \\\\\n",
    "&\\qquad \\xrightarrow[\\text{}]{\\text{with}} a_{0}^{(3)} = \\sigma(w_{0,0}^{(2)}a_{0}^{(2)} + \\cdots + w_{0,15}^{(2)}a_{15}^{(2)} + b_{0}^{(2)}) \\\\ \n",
    "&\\qquad \\xrightarrow[\\text{}]{\\text{with}} a_{1}^{(3)} = \\sigma(w_{1,0}^{(2)}a_{0}^{(2)} + \\cdots + w_{1,15}^{(2)}a_{15}^{(2)} + b_{1}^{(2)}) \\\\ \n",
    "&\\qquad \\xrightarrow[\\text{}]{\\text{with}} a_{9}^{(3)} = \\sigma(w_{9,0}^{(2)}a_{0}^{(2)} + \\cdots + w_{9,15}^{(2)}a_{15}^{(2)} + b_{9}^{(2)}) \\\\ \n",
    "&\\qquad\\qquad \\xrightarrow[\\text{}]{\\text{with}} a_{0}^{(2)} = \\sigma(w_{0,0}^{(1)}a_{0}^{(1)} + \\cdots + w_{0,15}^{(1)}a_{15}^{(1)} + b_{0}^{(1)}) \\\\\n",
    "&\\qquad\\qquad \\xrightarrow[\\text{}]{\\text{with}} a_{1}^{(2)} = \\sigma(w_{1,0}^{(1)}a_{0}^{(1)} + \\cdots + w_{1,15}^{(1)}a_{15}^{(1)} + b_{1}^{(1)}) \\\\\n",
    "&\\qquad\\qquad \\xrightarrow[\\text{}]{\\text{with}} a_{15}^{(2)} = \\sigma(w_{15,0}^{(1)}a_{0}^{(1)} + \\cdots + w_{15,15}^{(1)}a_{15}^{(1)} + b_{15}^{(1)}) \\\\\n",
    "&\\qquad\\qquad\\qquad \\xrightarrow[\\text{}]{\\text{with}} a_{15}^{(1)} = \\sigma(w_{15,0}^{(0)}a_{0}^{(0)} + w_{15,1}^{(0)}a_{1}^{(0)} + \\cdots + w_{15,784}^{(0)}a_{784}^{(0)} + b_{15}^{(0)}) \\\\\n",
    "\\frac{\\partial C}{\\partial w_{15,0}^{(0)}} &= \\frac{\\partial C}{\\partial a_{0}^{(3)}}\\left(\\sum\\limits_{m = 0}^{15} \\frac{\\partial a_{0}^{(3)}}{\\partial a_{m}^{(2)}}\\frac{\\partial a_{m}^{(2)}}{\\partial a_{15}^{(1)}}\\frac{\\partial a_{15}^{(1)}}{\\partial w_{15,0}^{(0)}}\\right) + \\frac{\\partial C}{\\partial a_{1}^{(3)}}\\left(\\sum\\limits_{m = 0}^{15} \\frac{\\partial a_{1}^{(3)}}{\\partial a_{m}^{(2)}}\\frac{\\partial a_{m}^{(2)}}{\\partial a_{15}^{(1)}}\\frac{\\partial a_{15}^{(1)}}{\\partial w_{15,0}^{(0)}}\\right) + \\cdots + \\frac{\\partial C}{\\partial a_{9}^{(3)}}\\left(\\sum\\limits_{m = 0}^{15} \\frac{\\partial a_{9}^{(3)}}{\\partial a_{m}^{(2)}}\\frac{\\partial a_{m}^{(2)}}{\\partial a_{15}^{(1)}}\\frac{\\partial a_{15}^{(1)}}{\\partial w_{15,0}^{(0)}}\\right) \\\\\n",
    "&= \\sum\\limits_{n = 0}^{9} \\left(\\frac{\\partial C}{\\partial a_{n}^{(3)}}\\left(\\sum\\limits_{m = 0}^{15} \\frac{\\partial a_{n}^{(3)}}{\\partial a_{m}^{(2)}}\\frac{\\partial a_{m}^{(2)}}{\\partial a_{15}^{(1)}}\\frac{\\partial a_{15}^{(1)}}{\\partial w_{0,15}^{(0)}}\\right)\\right) \\\\\n",
    "&= \\sum\\limits_{n = 0}^{9} \\left(2(a_{n}^{(3)} - y_{n}) \\left(\\sum\\limits_{m = 0}^{15}\\left(\\sigma'(W_{n}^{(2)} \\times A^{(2)} + b_{n}^{(2)})w_{n, m}^{(2)}\\sigma'(W_{m}^{(1)} \\times A^{(1)} + b_{m}^{(1)})w_{m, 15}^{(1)}\\sigma'(W_{15}^{(0)} \\times A^{(0)} + b_{15}^{(0)})a_{0}^{(0)}\\right)\\right)\\right) \\\\\n",
    "&= 2\\sigma'(W_{15}^{(0)} \\times A^{(0)} + b_{15}^{(0)})a_{0}^{(0)} \\sum\\limits_{n = 0}^{9} \\left((a_{n}^{(3)} - y_{n}) \\left(\\sum\\limits_{m = 0}^{15}\\left(\\sigma'(W_{n}^{(2)} \\times A^{(2)} + b_{n}^{(2)})\\sigma'(W_{m}^{(1)} \\times A^{(1)} + b_{m}^{(1)})w_{n, m}^{(2)}w_{m, 15}^{(1)}\\right)\\right)\\right)\n",
    "\\end{align*}\n",
    "$$"
   ]
  },
  {
   "cell_type": "markdown",
   "metadata": {},
   "source": [
    "Notice we can find the change in C in respect to each change in w and b -> 3 layer back with the following:\n",
    "\n",
    "$$\n",
    "\\begin{align*}\n",
    "\\frac{\\partial C}{\\partial w_{j,k}^{(0)}} &= \\sum\\limits_{n = 0}^{9} \\left(\\frac{\\partial C}{\\partial a_{n}^{(3)}}\\left(\\sum\\limits_{m = 0}^{15} \\frac{\\partial a_{n}^{(3)}}{\\partial a_{m}^{(2)}}\\frac{\\partial a_{m}^{(2)}}{\\partial a_{j}^{(1)}}\\frac{\\partial a_{j}^{(1)}}{\\partial w_{j,k}^{(0)}}\\right)\\right) \\\\\n",
    "&= 2\\sigma'(W_{j}^{(0)} \\times A^{(0)} + b_{j}^{(0)})a_{k}^{(0)} \\sum\\limits_{n = 0}^{9} \\left((a_{n}^{(3)} - y_{n}) \\left(\\sum\\limits_{m = 0}^{15}\\left(\\sigma'(W_{n}^{(2)} \\times A^{(2)} + b_{n}^{(2)})\\sigma'(W_{m}^{(1)} \\times A^{(1)} + b_{m}^{(1)})w_{n, m}^{(2)}w_{m, j}^{(1)}\\right)\\right)\\right) \\\\\n",
    "\\frac{\\partial C}{\\partial b_{j,k}^{(0)}} &= \\sum\\limits_{n = 0}^{9} \\left(\\frac{\\partial C}{\\partial a_{n}^{(3)}}\\left(\\sum\\limits_{m = 0}^{15} \\frac{\\partial a_{n}^{(3)}}{\\partial a_{m}^{(2)}}\\frac{\\partial a_{m}^{(2)}}{\\partial a_{j}^{(1)}}\\frac{\\partial a_{j}^{(1)}}{\\partial b_{j,k}^{(0)}}\\right)\\right) \\\\\n",
    "&= 2\\sigma'(W_{j}^{(0)} \\times A^{(0)} + b_{j}^{(0)}) \\sum\\limits_{n = 0}^{9} \\left((a_{n}^{(3)} - y_{n}) \\left(\\sum\\limits_{m = 0}^{15}\\left(\\sigma'(W_{n}^{(2)} \\times A^{(2)} + b_{n}^{(2)})\\sigma'(W_{m}^{(1)} \\times A^{(1)} + b_{m}^{(1)})w_{n, m}^{(2)}w_{m, j}^{(1)}\\right)\\right)\\right)\n",
    "\\end{align*}\n",
    "$$"
   ]
  },
  {
   "cell_type": "markdown",
   "metadata": {},
   "source": [
    "Notice the following for $\\frac{\\partial C}{\\partial W^{(0)}}$:\n",
    "$$\n",
    "\\begin{align*}\n",
    "\\frac{\\partial C}{\\partial W^{(0)}} &= \n",
    "\\begin{bmatrix}\n",
    "    2\\sigma'(W_{0}^{(0)} \\times A^{(0)} + b_{0}^{(0)})a_{0}^{(0)} \\sum\\limits_{n = 0}^{9} \\left((a_{n}^{(3)} - y_{n}) \\left(\\sum\\limits_{m = 0}^{15}\\left(\\sigma'(W_{n}^{(2)} \\times A^{(2)} + b_{n}^{(2)})\\sigma'(W_{m}^{(1)} \\times A^{(1)} + b_{m}^{(1)})w_{n, m}^{(2)}w_{m, 0}^{(1)}\\right)\\right)\\right)  \\\\\n",
    "    \\qquad\\qquad \\cdots 2\\sigma'(W_{0}^{(0)} \\times A^{(0)} + b_{0}^{(0)})a_{784}^{(0)} \\sum\\limits_{n = 0}^{9} \\left((a_{n}^{(3)} - y_{n}) \\left(\\sum\\limits_{m = 0}^{15}\\left(\\sigma'(W_{n}^{(2)} \\times A^{(2)} + b_{n}^{(2)})\\sigma'(W_{m}^{(1)} \\times A^{(1)} + b_{m}^{(1)})w_{n, m}^{(2)}w_{m, 0}^{(1)}\\right)\\right)\\right) \\\\\n",
    "    \\vdots \\\\\n",
    "    2\\sigma'(W_{15}^{(0)} \\times A^{(0)} + b_{15}^{(0)})a_{0}^{(0)} \\sum\\limits_{n = 0}^{9} \\left((a_{n}^{(3)} - y_{n}) \\left(\\sum\\limits_{m = 0}^{15}\\left(\\sigma'(W_{n}^{(2)} \\times A^{(2)} + b_{n}^{(2)})\\sigma'(W_{m}^{(1)} \\times A^{(1)} + b_{m}^{(1)})w_{n, m}^{(2)}w_{m, 15}^{(1)}\\right)\\right)\\right) \\\\\n",
    "    \\qquad\\qquad \\cdots 2\\sigma'(W_{15}^{(0)} \\times A^{(0)} + b_{15}^{(0)})a_{784}^{(0)} \\sum\\limits_{n = 0}^{9} \\left((a_{n}^{(3)} - y_{n}) \\left(\\sum\\limits_{m = 0}^{15}\\left(\\sigma'(W_{n}^{(2)} \\times A^{(2)} + b_{n}^{(2)})\\sigma'(W_{m}^{(1)} \\times A^{(1)} + b_{m}^{(1)})w_{n, m}^{(2)}w_{m, 15}^{(1)}\\right)\\right)\\right)\n",
    "\\end{bmatrix} \\\\\n",
    "&= \\boldsymbol{\\left(2\\sigma' (W^{(0)} \\times A^{(0)} + B^{(0)}) * \n",
    "\\sum\\limits_{n = 0}^{9} \\left((a_{n}^{(3)} - y_{n}) \\left(\\sum\\limits_{m = 0}^{15}\\left(\\sigma'(W_{n}^{(2)} \\times A^{(2)} + b_{n}^{(2)}) * \\sigma'(W_{m}^{(1)} \\times A^{(1)} + b_{m}^{(1)}) * w_{n, m}^{(2)} * (W_{m}^{(1)})^T\\right)\\right)\\right)\n",
    "\\right) \\times (A^{(0)})^{T}} \\\\\n",
    "&= \\bigg(\\{C\\} * \\{16 \\times 1\\} * \\{C\\} * \\{C\\} * \\{C\\} * \\{C\\} * \\{16 \\times 1\\} \\bigg)\\times \\{1 \\times 784\\} \\\\\n",
    "&= \\{16 \\times 1\\} \\times \\{1 \\times 784\\} \\\\\n",
    "&= \\{16 \\times 784\\} \n",
    "\\end{align*}\n",
    "$$\n",
    "where $*$ represents \"element-wise multiplication\""
   ]
  },
  {
   "cell_type": "markdown",
   "metadata": {},
   "source": [
    "---\n",
    "\n",
    "Summary of changes in C in respect to w and b - multiple layers:\n",
    "\n",
    "We will do the partial notation:\n",
    "$$\n",
    "\\begin{align*}\n",
    "\\frac{\\partial C}{\\partial w_{j,k}^{(2)}} &= \\frac{\\partial C}{\\partial a_{j}^{(3)}}\\frac{\\partial a_{j}^{(3)}}{\\partial w_{j,k}^{(2)}} \\\\\n",
    "\\frac{\\partial C}{\\partial w_{j,k}^{(1)}} &= \\bigg(\\sum\\limits_{n = 0}^{9} \\frac{\\partial C}{\\partial a_{n}^{(3)}} \\frac{\\partial a_{n}^{(3)}}{\\partial a_{j}^{(2)}}\\bigg)\\frac{\\partial a_{j}^{(2)}}{\\partial w_{j,k}^{(1)}} \\\\ \n",
    "\\frac{\\partial C}{\\partial w_{j,k}^{(0)}} &= \\sum\\limits_{n = 0}^{9} \\left(\\frac{\\partial C}{\\partial a_{n}^{(3)}}\\left(\\sum\\limits_{m = 0}^{15} \\frac{\\partial a_{n}^{(3)}}{\\partial a_{m}^{(2)}}\\frac{\\partial a_{m}^{(2)}}{\\partial a_{j}^{(1)}}\\frac{\\partial a_{j}^{(1)}}{\\partial w_{j,k}^{(0)}}\\right)\\right) \\\\\n",
    "\\frac{\\partial C}{\\partial b_{j}^{(2)}} &= \\frac{\\partial C}{\\partial a_{j}^{(3)}}\\frac{\\partial a_{j}^{(3)}}{\\partial b_{j}^{(2)}} \\\\\n",
    "\\frac{\\partial C}{\\partial b_{j}^{(1)}} &= \\bigg(\\sum\\limits_{n = 0}^{9} \\frac{\\partial C}{\\partial a_{n}^{(3)}} \\frac{\\partial a_{n}^{(3)}}{\\partial a_{j}^{(2)}}\\bigg)\\frac{\\partial a_{j}^{(2)}}{\\partial b_{j}^{(1)}} \\\\\n",
    "\\frac{\\partial C}{\\partial b_{j,k}^{(0)}} &= \\sum\\limits_{n = 0}^{9} \\left(\\frac{\\partial C}{\\partial a_{n}^{(3)}}\\left(\\sum\\limits_{m = 0}^{15} \\frac{\\partial a_{n}^{(3)}}{\\partial a_{m}^{(2)}}\\frac{\\partial a_{m}^{(2)}}{\\partial a_{j}^{(1)}}\\frac{\\partial a_{j}^{(1)}}{\\partial b_{j,k}^{(0)}}\\right)\\right)\n",
    "\\end{align*}\n",
    "$$\n",
    "\n",
    "Now we will do the algebraic notation:\n",
    "$$\n",
    "\\begin{align*}\n",
    "\\frac{\\partial C}{\\partial w_{j,k}^{(2)}} &= 2\\sigma'(W_j^{(2)} \\times A^{(2)} + b_j^{(2)}) a_{k}^{(2)}(a_j^{(3)} - y_j) \\\\\n",
    "\\frac{\\partial C}{\\partial w_{j,k}^{(1)}} &= 2\\sigma'(W_{j}^{(1)} \\times A^{(1)} \\times b_{j}^{(1)})a_{k}^{(1)}\\left(\\sum\\limits_{n = 0}^{9} (a_{n}^{(3)} - y_{n})\\sigma'(W_{n}^{(2)} \\times A^{(2)} + b_{n}^{(2)})w_{n,j}^{(2)}\\right)\\\\\n",
    "\\frac{\\partial C}{\\partial w_{j,k}^{(0)}} &= 2\\sigma'(W_{j}^{(0)} \\times A^{(0)} + b_{j}^{(0)})a_{k}^{(0)} \\sum\\limits_{n = 0}^{9} \\left((a_{n}^{(3)} - y_{n}) \\left(\\sum\\limits_{m = 0}^{15}\\left(\\sigma'(W_{n}^{(2)} \\times A^{(2)} + b_{n}^{(2)})\\sigma'(W_{m}^{(1)} \\times A^{(1)} + b_{m}^{(1)})w_{n, m}^{(2)}w_{m, j}^{(1)}\\right)\\right)\\right) \\\\\n",
    "\\frac{\\partial C}{\\partial b_{j}^{(2)}} &= 2\\sigma'(W_j^{(2)} \\times A^{(2)} + b_j^{(2)})(a_j^{(3)} - y_j) \\\\\n",
    "\\frac{\\partial C}{\\partial b_{j}^{(1)}} &= 2\\sigma'(W_{j}^{(1)} \\times A^{(1)} \\times b_{j}^{(1)})\\left(\\sum\\limits_{n = 0}^{9} (a_{n}^{(3)} - y_{n})\\sigma'(W_{n}^{(2)} \\times A^{(2)} + b_{n}^{(2)})w_{n,j}^{(2)}\\right) \\\\\n",
    "\\frac{\\partial C}{\\partial b_{j,k}^{(0)}} &= 2\\sigma'(W_{j}^{(0)} \\times A^{(0)} + b_{j}^{(0)}) \\sum\\limits_{n = 0}^{9} \\left((a_{n}^{(3)} - y_{n}) \\left(\\sum\\limits_{m = 0}^{15}\\left(\\sigma'(W_{n}^{(2)} \\times A^{(2)} + b_{n}^{(2)})\\sigma'(W_{m}^{(1)} \\times A^{(1)} + b_{m}^{(1)})w_{n, m}^{(2)}w_{m, j}^{(1)}\\right)\\right)\\right)\n",
    "\\end{align*}\n",
    "$$\n",
    "\n",
    "Now we will do the matrix notation:\n",
    "$$\n",
    "\\begin{align*}\n",
    "\\frac{\\partial C}{\\partial W^{(2)}} &= \\left(2\\sigma' (W^{(2)} \\times A^{(2)} + B^{(2)}) * (A^{(3)} - y)\\right) \\times (A^{(2)})^{T} \\\\\n",
    "\\frac{\\partial C}{\\partial W^{(1)}} &= \\left(2\\sigma' (W^{(1)} \\times A^{(1)} + B^{(1)}) * \n",
    "\\sum\\limits_{n = 0}^{9} (a_{n}^{(3)} - y_n) * \\sigma'(W_n^{2} \\times A^{(2)} + b_{n}^{(2)}) * (W_n^{(2)})^T \\right) \\times (A^{(1)})^{T} \\\\\n",
    "\\frac{\\partial C}{\\partial W^{(0)}} &= \\left(2\\sigma' (W^{(0)} \\times A^{(0)} + B^{(0)}) * \n",
    "\\sum\\limits_{n = 0}^{9} \\left((a_{n}^{(3)} - y_{n}) \\left(\\sum\\limits_{m = 0}^{15}\\left(\\sigma'(W_{n}^{(2)} \\times A^{(2)} + b_{n}^{(2)}) * \\sigma'(W_{m}^{(1)} \\times A^{(1)} + b_{m}^{(1)}) * w_{n, m}^{(2)} * (W_{m}^{(1)})^T\\right)\\right)\\right)\\right) \\times (A^{(0)})^{T}\n",
    "\\end{align*}\n",
    "$$\n"
   ]
  },
  {
   "cell_type": "code",
   "execution_count": 103,
   "metadata": {},
   "outputs": [],
   "source": [
    "def calcGradient(A, W, B, layer):\n",
    "    if layer == 2:\n",
    "        dCdW = 2\n",
    "        dCdW *= sigmoid_prime(np.matmul(W[2], A[2]) + B[2])\n",
    "        dCdW *= A[len(A) - 1] - y\n",
    "        dCdB = dCdW\n",
    "        dCdW = np.matmul(dCdW, np.transpose(A[2]))\n",
    "    elif layer == 1:\n",
    "        dCdW = 0\n",
    "        for n in range(0, len(A[-1])):\n",
    "            dCdW += (A[-1][n] - y[n]) * sigmoid_prime(np.matmul(W[2][n], A[2]) + B[2][n]) * np.transpose(np.atleast_2d(W[2][n]))\n",
    "        dCdW *= 2\n",
    "        dCdW *= sigmoid_prime(np.matmul(W[1], A[1]) + B[1])\n",
    "        dCdB = dCdW\n",
    "        dCdW = np.matmul(dCdW, np.transpose(A[1]))\n",
    "    elif layer == 0:\n",
    "        dCdW = 0\n",
    "        for n in range(0, len(A[-1])):\n",
    "            sum2 = 0\n",
    "            for m in range(0, len(W[2])):\n",
    "                sum2 += sigmoid_prime(np.matmul(W[2][n], A[2]) + B[2][n]) * sigmoid_prime(np.matmul(W[1][m], A[1]) + B[1][m]) * W[2][n][m] * np.transpose(np.atleast_2d(W[1][m]))\n",
    "            dCdW += (A[len(A) - 1][n] - y[n]) * sum2\n",
    "        dCdW *= 2\n",
    "        dCdW *= sigmoid_prime(np.matmul(W[0], A[0]) + B[0])\n",
    "        dCdB = dCdW\n",
    "        dCdW = np.matmul(dCdW, np.transpose(A[0]))\n",
    "    return dCdW, dCdB"
   ]
  },
  {
   "cell_type": "markdown",
   "metadata": {},
   "source": [
    "---\n",
    "\n",
    "---\n",
    "\n",
    "#### Basic Example to Start Backward Propogation\n",
    "\n",
    "So we are now going to use the image of a 2 as our example taken from the MNIST training set"
   ]
  },
  {
   "cell_type": "code",
   "execution_count": 18,
   "metadata": {},
   "outputs": [],
   "source": [
    "def backward_propogation(A, W, B):\n",
    "    for i in range(0, 3):\n",
    "        dCdW, dCdB = calcGradient(A, W, B, i)\n",
    "        W[i] -= dCdW\n",
    "        B[i] -= dCdB\n",
    "    return W, B"
   ]
  },
  {
   "cell_type": "code",
   "execution_count": 24,
   "metadata": {},
   "outputs": [
    {
     "name": "stdout",
     "output_type": "stream",
     "text": [
      "Count:  5\n"
     ]
    },
    {
     "name": "stderr",
     "output_type": "stream",
     "text": [
      "/tmp/ipykernel_1031/1253679003.py:2: RuntimeWarning: overflow encountered in exp\n",
      "  return 1 / (1 + np.exp(-x))\n"
     ]
    }
   ],
   "source": [
    "index = 0\n",
    "heights = [(28 * 28), 16, 16, 10]\n",
    "\n",
    "A, W, B = generate_A_W_B(heights)\n",
    "y = convertAnswer(y_train[index])\n",
    "\n",
    "A = setInputLayer(A, X_train[index])\n",
    "A = forward_propogation(A, W, B)\n",
    "\n",
    "cost_vals = [cost(A, y)]\n",
    "ct = 0\n",
    "while cost_vals[-1] > 0.25 and ct < 10_000:\n",
    "    W, B = backward_propogation(A, W, B)\n",
    "    A = forward_propogation(A, W, B)\n",
    "    cost_vals.append(cost(A, y))\n",
    "    ct += 1\n",
    "\n",
    "print(\"Count: \", ct)"
   ]
  },
  {
   "cell_type": "code",
   "execution_count": 25,
   "metadata": {},
   "outputs": [
    {
     "name": "stdout",
     "output_type": "stream",
     "text": [
      "0.05719519837810342\n",
      "[[0. 0. 0. 0. 0. 1. 0. 0. 0. 0.]]\n",
      "[[0. 0. 1. 0. 0. 1. 1. 0. 1. 1. 0. 1. 1. 1. 0. 0.]]\n",
      "[[0.8153762  0.00433542 0.80856914 0.86611685 0.03874278 0.72787342\n",
      "  0.84090473 0.23089353 0.4939286  0.967653   0.19144588 0.00102611\n",
      "  0.18343254 0.99628154 0.99062716 0.03176179]]\n",
      "[[0.0701587  0.07276451 0.09797245 0.00723114 0.07059661 0.92346658\n",
      "  0.13906877 0.04369062 0.0545533  0.04755092]]\n"
     ]
    },
    {
     "data": {
      "text/plain": [
       "[<matplotlib.lines.Line2D at 0x7fb9f8064290>]"
      ]
     },
     "execution_count": 25,
     "metadata": {},
     "output_type": "execute_result"
    },
    {
     "data": {
      "image/png": "[encoded data removed]",
      "text/plain": [
       "<Figure size 640x480 with 1 Axes>"
      ]
     },
     "metadata": {},
     "output_type": "display_data"
    }
   ],
   "source": [
    "print(cost(A, y))\n",
    "print(y.T)\n",
    "print(A[1].T)\n",
    "print(A[2].T)\n",
    "print(A[3].T)\n",
    "\n",
    "plt.grid()\n",
    "plt.plot(np.arange(0, len(cost_vals)), cost_vals)"
   ]
  },
  {
   "cell_type": "code",
   "execution_count": 40,
   "metadata": {},
   "outputs": [
    {
     "name": "stderr",
     "output_type": "stream",
     "text": [
      "/tmp/ipykernel_1031/1253679003.py:2: RuntimeWarning: overflow encountered in exp\n",
      "  return 1 / (1 + np.exp(-x))\n"
     ]
    },
    {
     "name": "stdout",
     "output_type": "stream",
     "text": [
      "Progress 1: 100.00 %\tAverage Cost 1: 2.194912\n",
      "Progress 2: 100.00 %\tAverage Cost 2: 1.849459\n",
      "Progress 3: 100.00 %\tAverage Cost 3: 1.856776\n",
      "Progress 4: 100.00 %\tAverage Cost 4: 1.861489\n",
      "Progress 5: 100.00 %\tAverage Cost 5: 1.864868\n",
      "Progress 6: 100.00 %\tAverage Cost 6: 1.867450\n",
      "Progress 7: 100.00 %\tAverage Cost 7: 1.869512\n",
      "Progress 8: 100.00 %\tAverage Cost 8: 1.871209\n",
      "Progress 9: 100.00 %\tAverage Cost 9: 1.872640\n",
      "Progress 10: 100.00 %\tAverage Cost 10: 1.873868\n"
     ]
    }
   ],
   "source": [
    "heights = [(28 * 28), 16, 16, 10]\n",
    "A, W, B = generate_A_W_B(heights)\n",
    "\n",
    "batch_size = 10\n",
    "learning_rate = 1\n",
    "train_size = 100\n",
    "avg_cost = 0\n",
    "avg_cost_arr = []\n",
    "round_num = 1\n",
    "total_rounds = 10\n",
    "\n",
    "while round_num <= total_rounds and (round_num == 1 or avg_cost > 0.5):\n",
    "    avg_cost = 0\n",
    "    n = 0\n",
    "    while n <= train_size - batch_size:\n",
    "        dCdW_avg = []\n",
    "        dCdB_avg = []\n",
    "        for i in range(0, 3):\n",
    "            dCdW_avg.append(np.zeros(W[i].shape))\n",
    "            dCdB_avg.append(np.zeros(B[i].shape))\n",
    "\n",
    "        for i in range(n, n + batch_size):\n",
    "            A = setInputLayer(A, X_train[i])\n",
    "            A = forward_propogation(A, W, B)\n",
    "            avg_cost += cost(A, convertAnswer(y_train[i]))\n",
    "            for j in range(0, 3):\n",
    "                change = calcGradient(A, W, B, j)\n",
    "                dCdW_avg[j] += change[0]\n",
    "                dCdB_avg[j] += change[1]\n",
    "\n",
    "        for i in range(0, 3):\n",
    "            W[j] -= learning_rate * (dCdW_avg[j] / batch_size)\n",
    "            B[j] -= learning_rate * (dCdB_avg[j] / batch_size)\n",
    "\n",
    "        n += batch_size\n",
    "        print('Progress ' + str(round_num) +': {0:.2f} %'.format(100 * n / train_size), end='\\r' if n < train_size else '\\t')\n",
    "\n",
    "    avg_cost /= train_size\n",
    "    avg_cost_arr.append(avg_cost)\n",
    "    print('Average Cost ' + str(round_num) +': {0:.6f}'.format(avg_cost))\n",
    "    round_num += 1\n"
   ]
  },
  {
   "cell_type": "code",
   "execution_count": 41,
   "metadata": {},
   "outputs": [
    {
     "data": {
      "text/plain": [
       "[<matplotlib.lines.Line2D at 0x7fb9f642d4d0>]"
      ]
     },
     "execution_count": 41,
     "metadata": {},
     "output_type": "execute_result"
    },
    {
     "data": {
      "image/png": "[encoded data removed]",
      "text/plain": [
       "<Figure size 640x480 with 1 Axes>"
      ]
     },
     "metadata": {},
     "output_type": "display_data"
    }
   ],
   "source": [
    "plt.grid()\n",
    "plt.plot(np.arange(0, len(avg_cost_arr)), avg_cost_arr)"
   ]
  },
  {
   "cell_type": "code",
   "execution_count": null,
   "metadata": {},
   "outputs": [],
   "source": [
    "def saveWB():\n",
    "    for i in range(0, 3):\n",
    "        with open('Weights/W_' + str(i) + '.csv', 'w+') as csv_file:\n",
    "            csv_writer = csv.writer(csv_file)\n",
    "            csv_writer.writerows(W[i])\n",
    "        with open('Biases/B_' + str(i) + '.csv', 'w+') as csv_file:\n",
    "            csv_writer = csv.writer(csv_file)\n",
    "            csv_writer.writerows(B[i])\n",
    "\n",
    "saveWB()"
   ]
  },
  {
   "cell_type": "code",
   "execution_count": 66,
   "metadata": {},
   "outputs": [
    {
     "ename": "TypeError",
     "evalue": "setInputLayer() takes 1 positional argument but 2 were given",
     "output_type": "error",
     "traceback": [
      "\u001b[0;31m---------------------------------------------------------------------------\u001b[0m",
      "\u001b[0;31mTypeError\u001b[0m                                 Traceback (most recent call last)",
      "Cell \u001b[0;32mIn[66], line 2\u001b[0m\n\u001b[1;32m      1\u001b[0m index \u001b[38;5;241m=\u001b[39m \u001b[38;5;241m6\u001b[39m\n\u001b[0;32m----> 2\u001b[0m A \u001b[38;5;241m=\u001b[39m setInputLayer(A, X_train[index])\n\u001b[1;32m      3\u001b[0m A \u001b[38;5;241m=\u001b[39m forward_propogation(A, W, B)\n\u001b[1;32m      4\u001b[0m y \u001b[38;5;241m=\u001b[39m convertAnswer(y_train[index])\n",
      "\u001b[0;31mTypeError\u001b[0m: setInputLayer() takes 1 positional argument but 2 were given"
     ]
    }
   ],
   "source": [
    "index = 6\n",
    "A = setInputLayer(A, X_train[index])\n",
    "A = forward_propogation(A, W, B)\n",
    "y = convertAnswer(y_train[index])\n",
    "print(cost(A, y))\n",
    "print(y.T)\n",
    "print(A[1].T)\n",
    "print(A[2].T)\n",
    "print(A[3].T)"
   ]
  },
  {
   "cell_type": "markdown",
   "metadata": {},
   "source": [
    "---\n",
    "\n",
    "#### Attempt at Generic Test Data (2 Hidden Layers)"
   ]
  },
  {
   "cell_type": "code",
   "execution_count": 61,
   "metadata": {},
   "outputs": [],
   "source": [
    "def setInputLayer(A):\n",
    "    A[0] = np.random.randint(2, size=len(A[0])).reshape(-1,1)\n",
    "    return A\n",
    "\n",
    "def convertAnswer(A):\n",
    "    y = np.zeros((len(A[-1]), 1))\n",
    "    y[sum(A[0])[0]] = 1\n",
    "    return y\n"
   ]
  },
  {
   "cell_type": "code",
   "execution_count": 80,
   "metadata": {},
   "outputs": [
    {
     "name": "stdout",
     "output_type": "stream",
     "text": [
      "[[0. 0. 0. 0. 0. 1. 0. 0. 0. 0. 0.]]\n",
      "Count:  10\n"
     ]
    }
   ],
   "source": [
    "index = 5\n",
    "heights = [10, 16, 16, 11]\n",
    "A, W, B = generate_A_W_B(heights)\n",
    "A = setInputLayer(A)\n",
    "A = forward_propogation(A, W, B)\n",
    "y = convertAnswer(A)\n",
    "\n",
    "ct = 0\n",
    "cost_vals = [cost(A, y)]\n",
    "while cost_vals[-1] > 0.05 and ct < 10_000:\n",
    "    W, B = backward_propogation(A, W, B)\n",
    "    A = forward_propogation(A, W, B)\n",
    "    cost_vals.append(cost(A, y))\n",
    "    ct += 1\n",
    "\n",
    "print(y.T)\n",
    "print(\"Count: \", ct)"
   ]
  },
  {
   "cell_type": "code",
   "execution_count": 82,
   "metadata": {},
   "outputs": [
    {
     "name": "stdout",
     "output_type": "stream",
     "text": [
      "[[0. 0. 0. 0. 0. 0. 0. 1. 0. 0. 0.]]\n",
      "[[0.18854223 0.04340248 0.03960056 0.17956663 0.00264147 0.98403093\n",
      "  0.09412297 0.00924936 0.02606281 0.12113563 0.17628571]]\n",
      "[[0. 0. 0. 0. 0. 0. 0. 1. 0. 0. 0.]]\n",
      "[[0.12542604 0.11478129 0.02849534 0.16589259 0.0210175  0.9748303\n",
      "  0.03205696 0.03052916 0.03068228 0.02760424 0.16930032]]\n",
      "[[0. 0. 0. 0. 0. 0. 0. 1. 0. 0. 0.]]\n",
      "[[0.16021853 0.09986696 0.02326146 0.23785498 0.01164694 0.97346016\n",
      "  0.02511672 0.03226238 0.02754154 0.07535671 0.21569771]]\n",
      "[[0. 0. 0. 0. 0. 1. 0. 0. 0. 0. 0.]]\n",
      "[[0.18853949 0.07575122 0.03436502 0.20729086 0.00276684 0.98227569\n",
      "  0.06075314 0.01190976 0.01547033 0.10422489 0.21020488]]\n",
      "[[0. 0. 0. 0. 0. 1. 0. 0. 0. 0. 0.]]\n",
      "[[0.09824716 0.07758411 0.07554539 0.13657536 0.00856302 0.98339876\n",
      "  0.13702967 0.04122164 0.07546263 0.06834636 0.09286522]]\n"
     ]
    },
    {
     "data": {
      "text/plain": [
       "[<matplotlib.lines.Line2D at 0x7fb9f615f5d0>]"
      ]
     },
     "execution_count": 82,
     "metadata": {},
     "output_type": "execute_result"
    },
    {
     "data": {
      "image/png": "[encoded data removed]",
      "text/plain": [
       "<Figure size 640x480 with 1 Axes>"
      ]
     },
     "metadata": {},
     "output_type": "display_data"
    }
   ],
   "source": [
    "for _ in range(0, 5):\n",
    "    A = setInputLayer(A)\n",
    "    A = forward_propogation(A, W, B)\n",
    "    y = convertAnswer(A)\n",
    "    print(y.T)\n",
    "    print(A[-1].T)\n",
    "\n",
    "\n",
    "plt.grid()\n",
    "plt.plot(np.arange(0, len(cost_vals)), cost_vals)"
   ]
  },
  {
   "cell_type": "code",
   "execution_count": 107,
   "metadata": {},
   "outputs": [
    {
     "name": "stdout",
     "output_type": "stream",
     "text": [
      "0 (16, 10) (16, 1)\n",
      "1 (16, 16) (16, 1)\n",
      "2 (11, 16) (11, 1)\n",
      "Progress 1: 100.00 %\tAverage Cost 1: 1.501829\n",
      "Progress 2: 100.00 %\tAverage Cost 2: 1.459492\n",
      "Progress 3: 100.00 %\tAverage Cost 3: 1.424621\n",
      "Progress 4: 100.00 %\tAverage Cost 4: 1.464239\n",
      "Progress 5: 100.00 %\tAverage Cost 5: 1.423929\n",
      "Progress 6: 100.00 %\tAverage Cost 6: 1.497892\n",
      "Progress 7: 100.00 %\tAverage Cost 7: 1.425478\n",
      "Progress 8: 100.00 %\tAverage Cost 8: 1.458215\n",
      "Progress 9: 100.00 %\tAverage Cost 9: 1.448124\n",
      "Progress 10: 100.00 %\tAverage Cost 10: 1.487070\n"
     ]
    }
   ],
   "source": [
    "heights = [10, 16, 16, 11]\n",
    "A, W, B = generate_A_W_B(heights)\n",
    "\n",
    "for j in range(0, 3):\n",
    "    print(j, W[j].shape, B[j].shape)\n",
    "\n",
    "batch_size = 10\n",
    "learning_rate = 0.1\n",
    "train_size = 1000\n",
    "avg_cost = 0\n",
    "avg_cost_arr = []\n",
    "round_num = 1\n",
    "total_rounds = 10\n",
    "\n",
    "while round_num <= total_rounds and (round_num == 1 or avg_cost > 0.5):\n",
    "    avg_cost = 0\n",
    "    n = 0\n",
    "    while n <= train_size - batch_size:\n",
    "        dCdW_avg = []\n",
    "        dCdB_avg = []\n",
    "        for i in range(0, 3):\n",
    "            dCdW_avg.append(np.zeros(W[i].shape))\n",
    "            dCdB_avg.append(np.zeros(B[i].shape))\n",
    "\n",
    "        for i in range(n, n + batch_size):\n",
    "            A = setInputLayer(A)\n",
    "            A = forward_propogation(A, W, B)\n",
    "            avg_cost += cost(A, convertAnswer(A))\n",
    "            for j in range(0, 3):\n",
    "                change = calcGradient(A, W, B, j)\n",
    "                dCdW_avg[j] += change[0]\n",
    "                dCdB_avg[j] += change[1]\n",
    "\n",
    "        for i in range(0, 3):\n",
    "            W[j] -= learning_rate * (dCdW_avg[j] / batch_size)\n",
    "            B[j] -= learning_rate * (dCdB_avg[j] / batch_size)\n",
    "\n",
    "        n += batch_size\n",
    "        print('Progress ' + str(round_num) +': {0:.2f} %'.format(100 * n / train_size), end='\\r' if n < train_size else '\\t')\n",
    "\n",
    "    avg_cost /= train_size\n",
    "    avg_cost_arr.append(avg_cost)\n",
    "    print('Average Cost ' + str(round_num) +': {0:.6f}'.format(avg_cost))\n",
    "    round_num += 1\n"
   ]
  },
  {
   "cell_type": "code",
   "execution_count": 108,
   "metadata": {},
   "outputs": [
    {
     "name": "stdout",
     "output_type": "stream",
     "text": [
      "[[0. 0. 0. 0. 1. 0. 0. 0. 0. 0. 0.]]\n",
      "[[0.01463999 0.01219063 0.02112908 0.02071302 0.01085903 0.98488135\n",
      "  0.02506007 0.01722839 0.02037191 0.01600462 0.01891308]]\n",
      "[[0. 0. 0. 0. 0. 1. 0. 0. 0. 0. 0.]]\n",
      "[[0.01251753 0.00915854 0.00493176 0.01052531 0.00796682 0.99328133\n",
      "  0.01237856 0.01560009 0.00902499 0.00827057 0.00921374]]\n",
      "[[0. 0. 1. 0. 0. 0. 0. 0. 0. 0. 0.]]\n",
      "[[0.01169967 0.00584382 0.00737662 0.01018966 0.00861204 0.9925892\n",
      "  0.0113241  0.01076393 0.0104748  0.00917672 0.00927079]]\n",
      "[[0. 0. 0. 0. 0. 1. 0. 0. 0. 0. 0.]]\n",
      "[[0.01530758 0.01030869 0.01372597 0.01582119 0.01976901 0.98113687\n",
      "  0.01295681 0.00913808 0.00982596 0.01573419 0.01651791]]\n",
      "[[0. 0. 0. 0. 0. 0. 1. 0. 0. 0. 0.]]\n",
      "[[0.01438675 0.01441724 0.0237757  0.01671823 0.01493995 0.98704652\n",
      "  0.00836435 0.01769957 0.01468076 0.01604319 0.01137354]]\n"
     ]
    }
   ],
   "source": [
    "for _ in range(0, 5):\n",
    "    A = setInputLayer(A)\n",
    "    A = forward_propogation(A, W, B)\n",
    "    y = convertAnswer(A)\n",
    "    print(y.T)\n",
    "    print(A[-1].T)"
   ]
  }
 ],
 "metadata": {
  "kernelspec": {
   "display_name": "Python 3",
   "language": "python",
   "name": "python3"
  },
  "language_info": {
   "codemirror_mode": {
    "name": "ipython",
    "version": 3
   },
   "file_extension": ".py",
   "mimetype": "text/x-python",
   "name": "python",
   "nbconvert_exporter": "python",
   "pygments_lexer": "ipython3",
   "version": "3.11.7"
  }
 },
 "nbformat": 4,
 "nbformat_minor": 2
}
