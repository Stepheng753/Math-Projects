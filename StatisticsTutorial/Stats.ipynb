{
 "cells": [
  {
   "cell_type": "markdown",
   "metadata": {},
   "source": [
    "# Statistics Tutorial"
   ]
  },
  {
   "cell_type": "markdown",
   "metadata": {},
   "source": [
    "https://www.youtube.com/playlist?list=PLGLfVvz_LVvQjNJr85J4U_lxDg8vgqvcO\n",
    "<br />\n",
    "https://www.newthinktank.com/2020/07/statistics-every-day/"
   ]
  },
  {
   "cell_type": "code",
   "execution_count": 1,
   "metadata": {},
   "outputs": [],
   "source": [
    "import numpy as np\n",
    "import matplotlib as plt\n",
    "import math"
   ]
  },
  {
   "cell_type": "markdown",
   "metadata": {},
   "source": [
    "## Part 1\n",
    "https://www.youtube.com/watch?v=YCPYNXtwKAc&list=PLGLfVvz_LVvQjNJr85J4U_lxDg8vgqvcO&index=1&ab_channel=DerekBanas"
   ]
  },
  {
   "cell_type": "markdown",
   "metadata": {},
   "source": [
    "#### Mean: Average of Data Set\n",
    "Mean Population: $\\mu$\n",
    "<br />\n",
    "Mean Sample: $\\bar{x}$\n",
    "$$\n",
    "\\mu = \\frac{1}{N} \\sum_{i = 1}^{N} x_i \n",
    "\\qquad \\qquad \n",
    "\\bar{x} = \\frac{1}{n} \\sum_{i = 1}^{n} x_i\n",
    "$$"
   ]
  },
  {
   "cell_type": "code",
   "execution_count": 2,
   "metadata": {},
   "outputs": [
    {
     "name": "stdout",
     "output_type": "stream",
     "text": [
      "Mean:  3.0\n"
     ]
    }
   ],
   "source": [
    "def mean(*args):\n",
    "    val_sum = sum(args)\n",
    "    return val_sum / len(args)\n",
    "\n",
    "print('Mean: ', mean(1,2,3,4,5))"
   ]
  },
  {
   "cell_type": "markdown",
   "metadata": {},
   "source": [
    "#### Median: Number at Center of Data Set"
   ]
  },
  {
   "cell_type": "code",
   "execution_count": 3,
   "metadata": {},
   "outputs": [
    {
     "name": "stdout",
     "output_type": "stream",
     "text": [
      "Median:  2\n"
     ]
    }
   ],
   "source": [
    "def median(*args):\n",
    "    if len(args) % 2 == 0:\n",
    "        left_center = int(len(args) / 2) - 1\n",
    "        right_center = left_center + 1\n",
    "        return mean(args[left_center], args[right_center])\n",
    "    else:\n",
    "        center = int(len(args) / 2)\n",
    "        return args[center]\n",
    "\n",
    "print('Median: ', median(0,1,2,3,4))"
   ]
  },
  {
   "cell_type": "markdown",
   "metadata": {},
   "source": [
    "#### Mode: Number that occurs the Most"
   ]
  },
  {
   "cell_type": "code",
   "execution_count": 4,
   "metadata": {},
   "outputs": [
    {
     "name": "stdout",
     "output_type": "stream",
     "text": [
      "Mode:  [1, 2]\n"
     ]
    }
   ],
   "source": [
    "def mode(*args):\n",
    "    frequencies = {arg : args.count(arg) for arg in args}\n",
    "    mode = [key for key, val in frequencies.items() if val == max(frequencies.values())]\n",
    "    return mode\n",
    "\n",
    "print('Mode: ', mode(1,1,2,2,3))"
   ]
  },
  {
   "cell_type": "markdown",
   "metadata": {},
   "source": [
    "#### Variance: How Data is Spread around the Mean\n",
    "Variance Population: $\\sigma^2$\n",
    "<br />\n",
    "Variance Sample: $S^2$\n",
    "$$\n",
    "\\sigma^2 = \\frac{1}{N} \\sum_{i = 1}^{N} (x_i - \\mu)^2 \n",
    "\\qquad \\qquad\n",
    "S^2 = \\frac{1}{n - 1} \\sum_{i = 1}^{n} (x_i - \\bar{x})^2\n",
    "$$"
   ]
  },
  {
   "cell_type": "code",
   "execution_count": 5,
   "metadata": {},
   "outputs": [
    {
     "name": "stdout",
     "output_type": "stream",
     "text": [
      "Variance:  2.5\n"
     ]
    }
   ],
   "source": [
    "def variance(*args):\n",
    "    mean_val = mean(*args)\n",
    "    numerator = sum([(arg - mean_val) ** 2 for arg in args])\n",
    "    return numerator / (len(args) - 1)\n",
    "\n",
    "\n",
    "print('Variance: ', variance(4,3,6,5,2))"
   ]
  },
  {
   "cell_type": "markdown",
   "metadata": {},
   "source": [
    "#### Standard Deviation\n",
    "\n",
    "Standard Deviation Population: $\\mu$\n",
    "<br />\n",
    "Standard Deviation Sample: $S$"
   ]
  },
  {
   "cell_type": "code",
   "execution_count": 6,
   "metadata": {},
   "outputs": [
    {
     "name": "stdout",
     "output_type": "stream",
     "text": [
      "Standard Deviation:  1.5811388300841898\n"
     ]
    }
   ],
   "source": [
    "def standard_deviation(*args):\n",
    "    return math.sqrt(variance(*args))\n",
    "\n",
    "print('Standard Deviation: ', standard_deviation(4,3,6,5,2))"
   ]
  },
  {
   "cell_type": "markdown",
   "metadata": {},
   "source": [
    "#### Coefficient of Variation: How Data is Spread in relation to the Mean\n",
    "\n",
    "$$\n",
    "\\text{Coefficient of Variation} = \\frac{S}{\\bar{x}}\n",
    "$$"
   ]
  },
  {
   "cell_type": "code",
   "execution_count": 17,
   "metadata": {},
   "outputs": [
    {
     "name": "stdout",
     "output_type": "stream",
     "text": [
      "Coefficient Variance (m):  0.17213259316477408\n",
      "Coefficient Variance (km):  0.17214686292344047\n"
     ]
    }
   ],
   "source": [
    "def coefficient_variance(*args):\n",
    "    return standard_deviation(*args) / mean(*args)\n",
    "\n",
    "\n",
    "miles = [3, 4, 4.5, 3.5]\n",
    "kms = [4.828, 6.437, 7.242, 5.632]\n",
    "print('Coefficient Variance (m): ',  coefficient_variance(*miles))\n",
    "print('Coefficient Variance (km): ', coefficient_variance(*kms))\n"
   ]
  },
  {
   "cell_type": "markdown",
   "metadata": {},
   "source": [
    "#### Covariance: Which Direction 2 Datasets are Moving\n",
    "\n",
    "$$\n",
    "\\text{COV} =  \\frac{1}{n - 1} \\sum_{i = 1}^{n} (x_i - \\bar{x})^2 (y_i - \\bar{y})^2\n",
    "$$\n",
    "\n",
    "COV > 0: The datasets are moving Together\n",
    "<br />\n",
    "COV < 0: The datasets are moving Opposite\n",
    "<br />\n",
    "COV = 0: The datasets are moving Independently of each other\n"
   ]
  },
  {
   "cell_type": "code",
   "execution_count": 29,
   "metadata": {},
   "outputs": [
    {
     "name": "stdout",
     "output_type": "stream",
     "text": [
      "Covariance:  5803.200000000001\n"
     ]
    }
   ],
   "source": [
    "def covariance(x, y):\n",
    "    if (len(x) != len(y)):\n",
    "        return None\n",
    "        \n",
    "    mean_x = mean(*x)\n",
    "    mean_y = mean(*y)\n",
    "    numerator = 0\n",
    "    for i in range(0, len(x)):\n",
    "        numerator += (x[i] - mean_x) * (y[i] - mean_y)\n",
    "    return numerator / (len(x) - 1)\n",
    "\n",
    "\n",
    "market_cap = [1532, 1488, 1343, 928, 615]\n",
    "earnings = [58, 35, 75, 41, 17]\n",
    "print('Covariance: ', covariance(market_cap, earnings))\n",
    "\n",
    "    "
   ]
  },
  {
   "cell_type": "markdown",
   "metadata": {},
   "source": [
    "#### Correlation Coefficient: How Dependent Datasets are to Each Other\n",
    "$$\n",
    "r = \\frac{COV(X,Y)}{S(X) * S(Y)}, \\qquad -1 < r < 1\n",
    "$$\n",
    "\n",
    "r = 1: Perfect Correlation\n",
    "<br />\n",
    "As r approaches 1, the closer the relation between the two datasets\n",
    "<br />\n",
    "As r approaches -1, the closer the inverse relation between the two datasets\n",
    "<br />\n",
    "r = 0: Independence"
   ]
  },
  {
   "cell_type": "code",
   "execution_count": 31,
   "metadata": {},
   "outputs": [
    {
     "name": "stdout",
     "output_type": "stream",
     "text": [
      "Correlation Coefficient:  0.660125602195931\n"
     ]
    }
   ],
   "source": [
    "def correlation_coefficient(x, y):\n",
    "    if (len(x) != len(y)):\n",
    "        return None\n",
    "        \n",
    "    return covariance(x, y) / (standard_deviation(*x) * standard_deviation(*y))\n",
    "\n",
    "print('Correlation Coefficient: ', correlation_coefficient(market_cap, earnings))"
   ]
  },
  {
   "cell_type": "markdown",
   "metadata": {},
   "source": [
    "## Part 2\n",
    "https://www.youtube.com/watch?v=ger_Won5sRQ&list=PLGLfVvz_LVvQjNJr85J4U_lxDg8vgqvcO&index=2&ab_channel=DerekBanas"
   ]
  }
 ],
 "metadata": {
  "kernelspec": {
   "display_name": "Python 3.9.12 ('base')",
   "language": "python",
   "name": "python3"
  },
  "language_info": {
   "codemirror_mode": {
    "name": "ipython",
    "version": 3
   },
   "file_extension": ".py",
   "mimetype": "text/x-python",
   "name": "python",
   "nbconvert_exporter": "python",
   "pygments_lexer": "ipython3",
   "version": "3.9.12"
  },
  "orig_nbformat": 4,
  "vscode": {
   "interpreter": {
    "hash": "b480b91734a470729e91cfaf9ba42787d52888dd4cdc2399013079a70b16a644"
   }
  }
 },
 "nbformat": 4,
 "nbformat_minor": 2
}
